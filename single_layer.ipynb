{
 "cells": [
  {
   "cell_type": "code",
   "execution_count": 1,
   "metadata": {
    "collapsed": false
   },
   "outputs": [
    {
     "data": {
      "text/plain": [
       "maxpoolconstraint"
      ]
     },
     "execution_count": 1,
     "metadata": {},
     "output_type": "execute_result"
    }
   ],
   "source": [
    "include(\"nn_ops.jl\")"
   ]
  },
  {
   "cell_type": "code",
   "execution_count": 27,
   "metadata": {
    "collapsed": false
   },
   "outputs": [],
   "source": [
    "batch = 1\n",
    "in_height = 10\n",
    "in_width = 10\n",
    "stride_height = 2\n",
    "stride_width = 2\n",
    "pooled_height = round(Int, in_height/stride_height, RoundUp)\n",
    "pooled_width = round(Int, in_width/stride_width, RoundUp)\n",
    "in_channels = 1\n",
    "filter_height = 5\n",
    "filter_width = 5\n",
    "out_channels = 4\n",
    "\n",
    "srand(2)\n",
    "x_actual = rand(-10:10, batch, in_height, in_width, in_channels)\n",
    "x_current = rand(-10:10, batch, in_height, in_width, in_channels)\n",
    "filter = rand(-10:10, filter_height, filter_width, in_channels, out_channels)\n",
    "x_conv_actual = conv2d(x_actual, filter)\n",
    "x_conv_relu_actual = relu(x_conv_actual)\n",
    "x_conv_relu_maxpool_actual = maxpool(x_conv_relu_actual, (1, 2, 2, 1));"
   ]
  },
  {
   "cell_type": "code",
   "execution_count": null,
   "metadata": {
    "collapsed": false
   },
   "outputs": [],
   "source": [
    "m = Model(solver=GurobiSolver())\n",
    "\n",
    "@variable(m, ve[1:batch, 1:in_height, 1:in_width, 1:in_channels])\n",
    "@variable(m, vx[1:batch, 1:in_height, 1:in_width, 1:in_channels])\n",
    "@variable(m, vx_conv[1:batch, 1:in_height, 1:in_width, 1:out_channels])\n",
    "@variable(m, vx_conv_relu[1:batch, 1:in_height, 1:in_width, 1:out_channels])\n",
    "@variable(m, vx_conv_relu_maxpool[1:batch, 1:pooled_height, 1:pooled_width, 1:out_channels])\n",
    "@constraint(m, vx .== x_current) # input\n",
    "\n",
    "# 1. Only using convolution constraint\n",
    "@constraint(m, conv2d(vx+ve, filter) .== vx_conv)\n",
    "# @constraint(m, vx_conv .== x_conv_actual)\n",
    "\n",
    "# 2. Adding relu layer\n",
    "reluconstraint(m, vx_conv, vx_conv_relu, 10000)\n",
    "# @constraint(m, vx_conv_relu .== x_conv_relu_actual)\n",
    "\n",
    "# 3. Adding maxpool layer\n",
    "maxpoolconstraint(m, vx_conv_relu, vx_conv_relu_maxpool, (2, 2), 10000)\n",
    "@constraint(m, vx_conv_relu_maxpool .== x_conv_relu_maxpool_actual)\n",
    "\n",
    "\n",
    "@objective(m, Min, sum(ve.^2))\n",
    "\n",
    "print(m)\n",
    "\n",
    "status = solve(m)\n",
    "\n",
    "println(\"Objective value: \", getobjectivevalue(m))\n",
    "# TODO: Are jump solutions global? Can I save particular variables?\n",
    "println(\"e = \", getvalue(ve))"
   ]
  },
  {
   "cell_type": "code",
   "execution_count": 21,
   "metadata": {
    "collapsed": false
   },
   "outputs": [],
   "source": [
    "x_conv_current = conv2d(x_current+getvalue(ve), filter)\n",
    "x_conv_relu_current = relu(x_conv_current)\n",
    "x_conv_relu_maxpool_current = maxpool(x_conv_relu_current, (1, 2, 2, 1));"
   ]
  },
  {
   "cell_type": "code",
   "execution_count": 22,
   "metadata": {
    "collapsed": false
   },
   "outputs": [
    {
     "data": {
      "text/plain": [
       "1×5×5×4 Array{Float64,4}:\n",
       "[:, :, 1, 1] =\n",
       " 0.0  1.63709e-11  -10.0  10.0  7.10543e-15\n",
       "\n",
       "[:, :, 2, 1] =\n",
       " 0.0  1.63851e-11  0.0  10.0  0.0\n",
       "\n",
       "[:, :, 3, 1] =\n",
       " -17.0  0.0  -17.0  -40.0  0.0\n",
       "\n",
       "[:, :, 4, 1] =\n",
       " 0.0  17.0  -30.0  40.0  0.0\n",
       "\n",
       "[:, :, 5, 1] =\n",
       " -1.40966e-9  -51.569  1.8197e-11  0.0  0.0\n",
       "\n",
       "[:, :, 1, 2] =\n",
       " 0.0  1.63709e-11  -10.0  10.0  7.10543e-15\n",
       "\n",
       "[:, :, 2, 2] =\n",
       " 0.0  1.63851e-11  0.0  10.0  0.0\n",
       "\n",
       "[:, :, 3, 2] =\n",
       " -17.0  0.0  -17.0  -40.0  0.0\n",
       "\n",
       "[:, :, 4, 2] =\n",
       " 0.0  17.0  -30.0  40.0  0.0\n",
       "\n",
       "[:, :, 5, 2] =\n",
       " -1.40966e-9  -51.569  1.8197e-11  0.0  0.0\n",
       "\n",
       "[:, :, 1, 3] =\n",
       " 0.0  1.63709e-11  -10.0  10.0  7.10543e-15\n",
       "\n",
       "[:, :, 2, 3] =\n",
       " 0.0  1.63851e-11  0.0  10.0  0.0\n",
       "\n",
       "[:, :, 3, 3] =\n",
       " -17.0  0.0  -17.0  -40.0  0.0\n",
       "\n",
       "[:, :, 4, 3] =\n",
       " 0.0  17.0  -30.0  40.0  0.0\n",
       "\n",
       "[:, :, 5, 3] =\n",
       " -1.40966e-9  -51.569  1.8197e-11  0.0  0.0\n",
       "\n",
       "[:, :, 1, 4] =\n",
       " 0.0  1.63709e-11  -10.0  10.0  7.10543e-15\n",
       "\n",
       "[:, :, 2, 4] =\n",
       " 0.0  1.63851e-11  0.0  10.0  0.0\n",
       "\n",
       "[:, :, 3, 4] =\n",
       " -17.0  0.0  -17.0  -40.0  0.0\n",
       "\n",
       "[:, :, 4, 4] =\n",
       " 0.0  17.0  -30.0  40.0  0.0\n",
       "\n",
       "[:, :, 5, 4] =\n",
       " -1.40966e-9  -51.569  1.8197e-11  0.0  0.0"
      ]
     },
     "execution_count": 22,
     "metadata": {},
     "output_type": "execute_result"
    }
   ],
   "source": [
    "x_conv_relu_current - x_conv_relu_actual"
   ]
  },
  {
   "cell_type": "code",
   "execution_count": 25,
   "metadata": {
    "collapsed": false
   },
   "outputs": [
    {
     "data": {
      "text/plain": [
       "1.8200552176494966e-11"
      ]
     },
     "execution_count": 25,
     "metadata": {},
     "output_type": "execute_result"
    }
   ],
   "source": [
    "maximum(x_conv_relu_maxpool_current - x_conv_relu_maxpool_actual)"
   ]
  },
  {
   "cell_type": "code",
   "execution_count": null,
   "metadata": {
    "collapsed": true
   },
   "outputs": [],
   "source": []
  }
 ],
 "metadata": {
  "kernelspec": {
   "display_name": "Julia 0.5.1",
   "language": "julia",
   "name": "julia-0.5"
  },
  "language_info": {
   "file_extension": ".jl",
   "mimetype": "application/julia",
   "name": "julia",
   "version": "0.5.1"
  }
 },
 "nbformat": 4,
 "nbformat_minor": 2
}
