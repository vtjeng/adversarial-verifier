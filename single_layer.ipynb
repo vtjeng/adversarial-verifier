{
 "cells": [
  {
   "cell_type": "code",
   "execution_count": 1,
   "metadata": {
    "collapsed": false,
    "deletable": true,
    "editable": true
   },
   "outputs": [
    {
     "data": {
      "text/plain": [
       "NNOps"
      ]
     },
     "execution_count": 1,
     "metadata": {},
     "output_type": "execute_result"
    }
   ],
   "source": [
    "include(\"nn_ops.jl\")"
   ]
  },
  {
   "cell_type": "code",
   "execution_count": 34,
   "metadata": {
    "collapsed": false,
    "deletable": true,
    "editable": true
   },
   "outputs": [],
   "source": [
    "batch = 1\n",
    "in_height = 28\n",
    "in_width = 28\n",
    "stride_height = 2\n",
    "stride_width = 2\n",
    "pooled_height = round(Int, in_height/stride_height, RoundUp)\n",
    "pooled_width = round(Int, in_width/stride_width, RoundUp)\n",
    "in_channels = 1\n",
    "filter_height = 5\n",
    "filter_width = 5\n",
    "out_channels = 32\n",
    "\n",
    "srand(5)\n",
    "x_actual = rand(-10:10, batch, in_height, in_width, in_channels)\n",
    "x_current = rand(-10:10, batch, in_height, in_width, in_channels)\n",
    "filter = rand(-10:10, filter_height, filter_width, in_channels, out_channels)\n",
    "x_conv_actual = NNOps.conv2d(x_actual, filter)\n",
    "x_conv_relu_actual = NNOps.relu(x_conv_actual)\n",
    "x_conv_relu_maxpool_actual = NNOps.maxpool(x_conv_relu_actual, (1, 2, 2, 1));"
   ]
  },
  {
   "cell_type": "code",
   "execution_count": 35,
   "metadata": {
    "collapsed": false,
    "deletable": true,
    "editable": true
   },
   "outputs": [
    {
     "data": {
      "text/plain": [
       ":Min"
      ]
     },
     "execution_count": 35,
     "metadata": {},
     "output_type": "execute_result"
    }
   ],
   "source": [
    "using JuMP\n",
    "using Gurobi\n",
    "\n",
    "m = Model(solver=GurobiSolver())\n",
    "\n",
    "@variable(m, ve[1:batch, 1:in_height, 1:in_width, 1:in_channels])\n",
    "@variable(m, vx[1:batch, 1:in_height, 1:in_width, 1:in_channels])\n",
    "@variable(m, vx_conv[1:batch, 1:in_height, 1:in_width, 1:out_channels])\n",
    "# @variable(m, vx_conv_relu[1:batch, 1:in_height, 1:in_width, 1:out_channels])\n",
    "# @variable(m, vx_conv_relu_maxpool[1:batch, 1:pooled_height, 1:pooled_width, 1:out_channels])\n",
    "@constraint(m, vx .== x_current) # input\n",
    "\n",
    "# 1. Only using convolution constraint\n",
    "vx_conv = NNOps.conv2dconstraint(m, vx+ve, filter)\n",
    "# @constraint(m, conv2d(vx+ve, filter) .== vx_conv)\n",
    "# @constraint(m, vx_conv .== x_conv_actual)\n",
    "\n",
    "# 2. Adding relu layer\n",
    "vx_conv_relu = NNOps.reluconstraint(m, vx_conv, 10000)\n",
    "# @constraint(m, vx_conv_relu .== x_conv_relu_actual)\n",
    "\n",
    "# 3. Adding maxpool layer\n",
    "vx_conv_relu_maxpool = NNOps.maxpoolconstraint(m, vx_conv_relu, (2, 2), 10000)\n",
    "@constraint(m, vx_conv_relu_maxpool .== x_conv_relu_maxpool_actual)\n",
    "\n",
    "\n",
    "@objective(m, Min, sum(ve.^2))"
   ]
  },
  {
   "cell_type": "code",
   "execution_count": null,
   "metadata": {
    "collapsed": false
   },
   "outputs": [],
   "source": [
    "status = solve(m)\n",
    "\n",
    "println(\"Objective value: \", getobjectivevalue(m))\n",
    "# TODO: Are jump solutions global? Can I save particular variables?\n",
    "println(\"e = \", getvalue(ve))\n",
    "\n",
    "# TODO: fix the error message WARNING: A variable named a is already attached to this model. If creating variables programmatically, consider using the anonymous variable syntax x = @variable(m, [1:N], ...)."
   ]
  },
  {
   "cell_type": "code",
   "execution_count": 30,
   "metadata": {
    "collapsed": false,
    "deletable": true,
    "editable": true
   },
   "outputs": [],
   "source": [
    "x_conv_current = NNOps.conv2d(x_current+getvalue(ve), filter)\n",
    "x_conv_relu_current = NNOps.relu(x_conv_current)\n",
    "x_conv_relu_maxpool_current = NNOps.maxpool(x_conv_relu_current, (1, 2, 2, 1));"
   ]
  },
  {
   "cell_type": "code",
   "execution_count": 31,
   "metadata": {
    "collapsed": false,
    "deletable": true,
    "editable": true
   },
   "outputs": [
    {
     "data": {
      "text/plain": [
       "2093.3744208028265"
      ]
     },
     "execution_count": 31,
     "metadata": {},
     "output_type": "execute_result"
    }
   ],
   "source": [
    "maximum(abs(x_conv_current - x_conv_actual))"
   ]
  },
  {
   "cell_type": "code",
   "execution_count": 32,
   "metadata": {
    "collapsed": false,
    "deletable": true,
    "editable": true
   },
   "outputs": [
    {
     "data": {
      "text/plain": [
       "1452.0"
      ]
     },
     "execution_count": 32,
     "metadata": {},
     "output_type": "execute_result"
    }
   ],
   "source": [
    "maximum(abs(x_conv_relu_current - x_conv_relu_actual))"
   ]
  },
  {
   "cell_type": "code",
   "execution_count": 33,
   "metadata": {
    "collapsed": false,
    "deletable": true,
    "editable": true
   },
   "outputs": [
    {
     "data": {
      "text/plain": [
       "1.3869794202037156e-11"
      ]
     },
     "execution_count": 33,
     "metadata": {},
     "output_type": "execute_result"
    }
   ],
   "source": [
    "maximum(abs(x_conv_relu_maxpool_current - x_conv_relu_maxpool_actual))"
   ]
  },
  {
   "cell_type": "code",
   "execution_count": 11,
   "metadata": {
    "collapsed": false
   },
   "outputs": [
    {
     "data": {
      "text/plain": [
       "338.7638695133706"
      ]
     },
     "execution_count": 11,
     "metadata": {},
     "output_type": "execute_result"
    }
   ],
   "source": [
    "maximum(abs(x_conv_current))"
   ]
  },
  {
   "cell_type": "code",
   "execution_count": null,
   "metadata": {
    "collapsed": true
   },
   "outputs": [],
   "source": [
    "maximum(abs(x_conv_current))"
   ]
  }
 ],
 "metadata": {
  "kernelspec": {
   "display_name": "Julia 0.5.1",
   "language": "julia",
   "name": "julia-0.5"
  },
  "language_info": {
   "file_extension": ".jl",
   "mimetype": "application/julia",
   "name": "julia",
   "version": "0.5.1"
  }
 },
 "nbformat": 4,
 "nbformat_minor": 2
}
