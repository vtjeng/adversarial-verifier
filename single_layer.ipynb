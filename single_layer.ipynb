{
 "cells": [
  {
   "cell_type": "code",
   "execution_count": 4,
   "metadata": {
    "collapsed": false,
    "deletable": true,
    "editable": true
   },
   "outputs": [
    {
     "name": "stderr",
     "output_type": "stream",
     "text": [
      "WARNING: replacing module NNOps\n"
     ]
    },
    {
     "data": {
      "text/plain": [
       "NNOps"
      ]
     },
     "execution_count": 4,
     "metadata": {},
     "output_type": "execute_result"
    }
   ],
   "source": [
    "include(\"nn_ops.jl\")"
   ]
  },
  {
   "cell_type": "code",
   "execution_count": 5,
   "metadata": {
    "collapsed": false,
    "deletable": true,
    "editable": true
   },
   "outputs": [],
   "source": [
    "batch = 1\n",
    "in_height = 5\n",
    "in_width = 5\n",
    "stride_height = 2\n",
    "stride_width = 2\n",
    "pooled_height = round(Int, in_height/stride_height, RoundUp)\n",
    "pooled_width = round(Int, in_width/stride_width, RoundUp)\n",
    "in_channels = 1\n",
    "filter_height = 2\n",
    "filter_width = 2\n",
    "out_channels = 4\n",
    "\n",
    "srand(5)\n",
    "x_actual = rand(-10:10, batch, in_height, in_width, in_channels)\n",
    "x_current = rand(-10:10, batch, in_height, in_width, in_channels)\n",
    "filter = rand(-10:10, filter_height, filter_width, in_channels, out_channels)\n",
    "x_conv_actual = NNOps.conv2d(x_actual, filter)\n",
    "x_conv_relu_actual = NNOps.relu(x_conv_actual)\n",
    "x_conv_relu_maxpool_actual = NNOps.maxpool(x_conv_relu_actual, (1, 2, 2, 1));"
   ]
  },
  {
   "cell_type": "code",
   "execution_count": 6,
   "metadata": {
    "collapsed": false,
    "deletable": true,
    "editable": true
   },
   "outputs": [
    {
     "data": {
      "text/plain": [
       ":Min"
      ]
     },
     "execution_count": 6,
     "metadata": {},
     "output_type": "execute_result"
    }
   ],
   "source": [
    "using JuMP\n",
    "using Gurobi\n",
    "\n",
    "m = Model(solver=GurobiSolver())\n",
    "\n",
    "@variable(m, ve[1:batch, 1:in_height, 1:in_width, 1:in_channels])\n",
    "@variable(m, vx[1:batch, 1:in_height, 1:in_width, 1:in_channels])\n",
    "@variable(m, vx_conv[1:batch, 1:in_height, 1:in_width, 1:out_channels])\n",
    "# @variable(m, vx_conv_relu[1:batch, 1:in_height, 1:in_width, 1:out_channels])\n",
    "# @variable(m, vx_conv_relu_maxpool[1:batch, 1:pooled_height, 1:pooled_width, 1:out_channels])\n",
    "@constraint(m, vx .== x_current) # input\n",
    "\n",
    "# 1. Only using convolution constraint\n",
    "vx_conv = NNOps.conv2dconstraint(m, vx+ve, filter)\n",
    "# @constraint(m, conv2d(vx+ve, filter) .== vx_conv)\n",
    "# @constraint(m, vx_conv .== x_conv_actual)\n",
    "\n",
    "# 2. Adding relu layer\n",
    "vx_conv_relu = NNOps.reluconstraint(m, vx_conv, 10000)\n",
    "# @constraint(m, vx_conv_relu .== x_conv_relu_actual)\n",
    "\n",
    "# 3. Adding maxpool layer\n",
    "vx_conv_relu_maxpool = NNOps.maxpoolconstraint(m, vx_conv_relu, (2, 2), 10000)\n",
    "@constraint(m, vx_conv_relu_maxpool .== x_conv_relu_maxpool_actual)\n",
    "\n",
    "\n",
    "@objective(m, Min, sum(ve.^2))"
   ]
  },
  {
   "cell_type": "code",
   "execution_count": 7,
   "metadata": {
    "collapsed": false
   },
   "outputs": [
    {
     "name": "stdout",
     "output_type": "stream",
     "text": [
      "Optimize a model with 797 rows, 586 columns and 2209 nonzeros\n",
      "Model has 25 quadratic objective terms\n",
      "Variable types: 386 continuous, 200 integer (200 binary)\n",
      "Coefficient statistics:\n",
      "  Matrix range     [1e+00, 1e+04]\n",
      "  Objective range  [0e+00, 0e+00]\n",
      "  QObjective range [2e+00, 2e+00]\n",
      "  Bounds range     [0e+00, 0e+00]\n",
      "  RHS range        [1e+00, 1e+04]\n",
      "Presolve removed 393 rows and 261 columns\n",
      "Presolve time: 0.00s\n",
      "Presolved: 404 rows, 325 columns, 1148 nonzeros\n",
      "Presolved model has 25 quadratic objective terms\n",
      "Variable types: 173 continuous, 152 integer (152 binary)\n",
      "Found heuristic solution: objective 104293.81848\n",
      "Found heuristic solution: objective 60920.897582\n",
      "\n",
      "Root relaxation: objective 2.020828e+02, 531 iterations, 0.00 seconds\n",
      "\n",
      "    Nodes    |    Current Node    |     Objective Bounds      |     Work\n",
      " Expl Unexpl |  Obj  Depth IntInf | Incumbent    BestBd   Gap | It/Node Time\n",
      "\n",
      "     0     0  202.08278    0   92 60920.8976  202.08278   100%     -    0s\n",
      "H    0     0                    18046.595179  202.08278  98.9%     -    0s\n",
      "     0     0  202.08278    0   23 18046.5952  202.08278  98.9%     -    0s\n",
      "H    0     0                     287.0533352  202.08278  29.6%     -    0s\n",
      "     0     2  202.08278    0   23  287.05334  202.08278  29.6%     -    0s\n",
      "H  129    31                     284.3659944  245.63099  13.6%   5.2    0s\n",
      "\n",
      "Explored 193 nodes (1739 simplex iterations) in 0.08 seconds\n",
      "Thread count was 8 (of 8 available processors)\n",
      "\n",
      "Solution count 5: 284.366 287.053 18046.6 ... 104294\n",
      "Pool objective bound 284.366\n",
      "\n",
      "Optimal solution found (tolerance 1.00e-04)\n",
      "Best objective 2.843659943655e+02, best bound 2.843659943655e+02, gap 0.0000%\n",
      "Objective value: 284.36599436554684\n",
      "e = [0.0 0.0 0.340629 1.5361 2.52031]\n",
      "\n",
      "[-0.0800394 -0.280138 2.21409 3.59786 10.6892]\n",
      "\n",
      "[-0.520256 -0.264453 0.194968 0.0 3.89397]\n",
      "\n",
      "[0.0 0.362083 1.05713 2.92009 -6.59907]\n",
      "\n",
      "[0.0 -2.67206 -2.66513 7.76146 0.0]\n"
     ]
    }
   ],
   "source": [
    "status = solve(m)\n",
    "\n",
    "println(\"Objective value: \", getobjectivevalue(m))\n",
    "# TODO: Are jump solutions global? Can I save particular variables?\n",
    "println(\"e = \", getvalue(ve))\n",
    "\n",
    "# TODO: fix the error message WARNING: A variable named a is already attached to this model. If creating variables programmatically, consider using the anonymous variable syntax x = @variable(m, [1:N], ...)."
   ]
  },
  {
   "cell_type": "code",
   "execution_count": 8,
   "metadata": {
    "collapsed": false,
    "deletable": true,
    "editable": true
   },
   "outputs": [],
   "source": [
    "x_conv_current = NNOps.conv2d(x_current+getvalue(ve), filter)\n",
    "x_conv_relu_current = NNOps.relu(x_conv_current)\n",
    "x_conv_relu_maxpool_current = NNOps.maxpool(x_conv_relu_current, (1, 2, 2, 1));"
   ]
  },
  {
   "cell_type": "code",
   "execution_count": 9,
   "metadata": {
    "collapsed": false,
    "deletable": true,
    "editable": true
   },
   "outputs": [
    {
     "data": {
      "text/plain": [
       "235.0000000000054"
      ]
     },
     "execution_count": 9,
     "metadata": {},
     "output_type": "execute_result"
    }
   ],
   "source": [
    "maximum(abs(x_conv_current - x_conv_actual))"
   ]
  },
  {
   "cell_type": "code",
   "execution_count": 10,
   "metadata": {
    "collapsed": false,
    "deletable": true,
    "editable": true
   },
   "outputs": [
    {
     "data": {
      "text/plain": [
       "123.00000000000543"
      ]
     },
     "execution_count": 10,
     "metadata": {},
     "output_type": "execute_result"
    }
   ],
   "source": [
    "maximum(abs(x_conv_relu_current - x_conv_relu_actual))"
   ]
  },
  {
   "cell_type": "code",
   "execution_count": 11,
   "metadata": {
    "collapsed": false,
    "deletable": true,
    "editable": true
   },
   "outputs": [
    {
     "data": {
      "text/plain": [
       "9.985257065636688e-10"
      ]
     },
     "execution_count": 11,
     "metadata": {},
     "output_type": "execute_result"
    }
   ],
   "source": [
    "maximum(abs(x_conv_relu_maxpool_current - x_conv_relu_maxpool_actual))"
   ]
  },
  {
   "cell_type": "code",
   "execution_count": null,
   "metadata": {
    "collapsed": false
   },
   "outputs": [],
   "source": [
    "@printf \"%d + %d\" 5 3"
   ]
  },
  {
   "cell_type": "code",
   "execution_count": null,
   "metadata": {
    "collapsed": false
   },
   "outputs": [],
   "source": [
    "@printf \"%s + %s\" (1, 2, 3) (4, 5, 6)"
   ]
  },
  {
   "cell_type": "code",
   "execution_count": null,
   "metadata": {
    "collapsed": false
   },
   "outputs": [],
   "source": [
    "@nloops 4 r x_conv_actual begin\n",
    "    print(@ntuple 4 r)\n",
    "end"
   ]
  },
  {
   "cell_type": "code",
   "execution_count": null,
   "metadata": {
    "collapsed": false
   },
   "outputs": [],
   "source": [
    "prod((1, 2, 3, 4))"
   ]
  },
  {
   "cell_type": "code",
   "execution_count": null,
   "metadata": {
    "collapsed": false
   },
   "outputs": [],
   "source": [
    "methods(max)"
   ]
  },
  {
   "cell_type": "code",
   "execution_count": null,
   "metadata": {
    "collapsed": false
   },
   "outputs": [],
   "source": [
    "subtypes(Number)"
   ]
  },
  {
   "cell_type": "code",
   "execution_count": null,
   "metadata": {
    "collapsed": false
   },
   "outputs": [],
   "source": [
    "output_size = (1, 2, 3, 4)\n",
    "hippo = reshape(@variable(m, [1:prod(output_size)]), output_size)\n",
    "typeof(hippo)"
   ]
  },
  {
   "cell_type": "code",
   "execution_count": null,
   "metadata": {
    "collapsed": true
   },
   "outputs": [],
   "source": []
  }
 ],
 "metadata": {
  "kernelspec": {
   "display_name": "Julia 0.5.1",
   "language": "julia",
   "name": "julia-0.5"
  },
  "language_info": {
   "file_extension": ".jl",
   "mimetype": "application/julia",
   "name": "julia",
   "version": "0.5.1"
  }
 },
 "nbformat": 4,
 "nbformat_minor": 2
}
