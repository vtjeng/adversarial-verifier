{
 "cells": [
  {
   "cell_type": "code",
   "execution_count": 1,
   "metadata": {
    "collapsed": false,
    "deletable": true,
    "editable": true
   },
   "outputs": [
    {
     "data": {
      "text/plain": [
       "maxpoolconstraint"
      ]
     },
     "execution_count": 1,
     "metadata": {},
     "output_type": "execute_result"
    }
   ],
   "source": [
    "include(\"nn_ops.jl\")"
   ]
  },
  {
   "cell_type": "code",
   "execution_count": 2,
   "metadata": {
    "collapsed": false,
    "deletable": true,
    "editable": true
   },
   "outputs": [],
   "source": [
    "batch = 1\n",
    "in_height = 5\n",
    "in_width = 5\n",
    "stride_height = 2\n",
    "stride_width = 2\n",
    "pooled_height = round(Int, in_height/stride_height, RoundUp)\n",
    "pooled_width = round(Int, in_width/stride_width, RoundUp)\n",
    "in_channels = 1\n",
    "filter_height = 2\n",
    "filter_width = 2\n",
    "out_channels = 4\n",
    "\n",
    "srand(2)\n",
    "x_actual = rand(-10:10, batch, in_height, in_width, in_channels)\n",
    "x_current = rand(-10:10, batch, in_height, in_width, in_channels)\n",
    "filter = rand(-10:10, filter_height, filter_width, in_channels, out_channels)\n",
    "x_conv_actual = conv2d(x_actual, filter)\n",
    "x_conv_relu_actual = relu(x_conv_actual)\n",
    "x_conv_relu_maxpool_actual = maxpool(x_conv_relu_actual, (1, 2, 2, 1));"
   ]
  },
  {
   "cell_type": "code",
   "execution_count": 3,
   "metadata": {
    "collapsed": false,
    "deletable": true,
    "editable": true
   },
   "outputs": [
    {
     "data": {
      "text/plain": [
       ":Min"
      ]
     },
     "execution_count": 3,
     "metadata": {},
     "output_type": "execute_result"
    }
   ],
   "source": [
    "m = Model(solver=GurobiSolver())\n",
    "\n",
    "@variable(m, ve[1:batch, 1:in_height, 1:in_width, 1:in_channels])\n",
    "@variable(m, vx[1:batch, 1:in_height, 1:in_width, 1:in_channels])\n",
    "@variable(m, vx_conv[1:batch, 1:in_height, 1:in_width, 1:out_channels])\n",
    "@variable(m, vx_conv_relu[1:batch, 1:in_height, 1:in_width, 1:out_channels])\n",
    "@variable(m, vx_conv_relu_maxpool[1:batch, 1:pooled_height, 1:pooled_width, 1:out_channels])\n",
    "@constraint(m, vx .== x_current) # input\n",
    "\n",
    "# 1. Only using convolution constraint\n",
    "@constraint(m, conv2d(vx+ve, filter) .== vx_conv)\n",
    "# @constraint(m, vx_conv .== x_conv_actual)\n",
    "\n",
    "# 2. Adding relu layer\n",
    "reluconstraint2(m, vx_conv, vx_conv_relu, 10000)\n",
    "# @constraint(m, vx_conv_relu .== x_conv_relu_actual)\n",
    "\n",
    "# 3. Adding maxpool layer\n",
    "maxpoolconstraint(m, vx_conv_relu, vx_conv_relu_maxpool, (2, 2), 10000)\n",
    "@constraint(m, vx_conv_relu_maxpool .== x_conv_relu_maxpool_actual)\n",
    "\n",
    "\n",
    "@objective(m, Min, sum(ve.^2))"
   ]
  },
  {
   "cell_type": "code",
   "execution_count": 4,
   "metadata": {
    "collapsed": false
   },
   "outputs": [
    {
     "name": "stdout",
     "output_type": "stream",
     "text": [
      "Optimize a model with 797 rows, 486 columns and 2209 nonzeros\n",
      "Model has 25 quadratic objective terms\n",
      "Variable types: 286 continuous, 200 integer (200 binary)\n",
      "Coefficient statistics:\n",
      "  Matrix range     [1e+00, 1e+04]\n",
      "  Objective range  [0e+00, 0e+00]\n",
      "  QObjective range [2e+00, 2e+00]\n",
      "  Bounds range     [0e+00, 0e+00]\n",
      "  RHS range        [1e+00, 1e+04]\n",
      "Presolve removed 443 rows and 203 columns\n",
      "Presolve time: 0.00s\n",
      "Presolved: 354 rows, 283 columns, 1010 nonzeros\n",
      "Presolved model has 25 quadratic objective terms\n",
      "Variable types: 151 continuous, 132 integer (132 binary)\n",
      "Found heuristic solution: objective 1458.0643602\n",
      "\n",
      "Root relaxation: objective 8.547419e+01, 481 iterations, 0.00 seconds\n",
      "\n",
      "    Nodes    |    Current Node    |     Objective Bounds      |     Work\n",
      " Expl Unexpl |  Obj  Depth IntInf | Incumbent    BestBd   Gap | It/Node Time\n",
      "\n",
      "     0     0   85.47419    0   56 1458.06436   85.47419  94.1%     -    0s\n",
      "H    0     0                     222.2162142   85.47419  61.5%     -    0s\n",
      "     0     0   85.47419    0   52  222.21621   85.47419  61.5%     -    0s\n",
      "     0     0   85.47419    0   13  222.21621   85.47419  61.5%     -    0s\n",
      "     0     2   85.47419    0   13  222.21621   85.47419  61.5%     -    0s\n",
      "*   15     5               4     194.7793749  189.02899  2.95%   5.4    0s\n",
      "\n",
      "Explored 29 nodes (752 simplex iterations) in 0.04 seconds\n",
      "Thread count was 8 (of 8 available processors)\n",
      "\n",
      "Solution count 3: 194.779 222.216 1458.06 \n",
      "Pool objective bound 194.779\n",
      "\n",
      "Optimal solution found (tolerance 1.00e-04)\n",
      "Best objective 1.947793749245e+02, best bound 1.947793749245e+02, gap 0.0000%\n",
      "Objective value: 194.77937492453242\n",
      "e = [0.0 0.352116 0.440145 1.65784 0.678312]\n",
      "\n",
      "[0.0 1.31428 1.01565 3.31244 -0.380722]\n",
      "\n",
      "[0.0 1.03292 -0.344308 1.62829 5.7823]\n",
      "\n",
      "[0.0 1.83752 2.29691 -1.09331 5.74906]\n",
      "\n",
      "[-7.05718 -6.75426 0.960308 0.831754 0.40999]\n"
     ]
    }
   ],
   "source": [
    "status = solve(m)\n",
    "\n",
    "println(\"Objective value: \", getobjectivevalue(m))\n",
    "# TODO: Are jump solutions global? Can I save particular variables?\n",
    "println(\"e = \", getvalue(ve))\n",
    "\n",
    "# TODO: fix the error message WARNING: A variable named a is already attached to this model. If creating variables programmatically, consider using the anonymous variable syntax x = @variable(m, [1:N], ...)."
   ]
  },
  {
   "cell_type": "code",
   "execution_count": null,
   "metadata": {
    "collapsed": false,
    "deletable": true,
    "editable": true
   },
   "outputs": [],
   "source": [
    "x_conv_current = conv2d(x_current+getvalue(ve), filter)\n",
    "x_conv_relu_current = relu(x_conv_current)\n",
    "x_conv_relu_maxpool_current = maxpool(x_conv_relu_current, (1, 2, 2, 1));"
   ]
  },
  {
   "cell_type": "code",
   "execution_count": null,
   "metadata": {
    "collapsed": false,
    "deletable": true,
    "editable": true
   },
   "outputs": [],
   "source": [
    "x_conv_current - x_conv_actual"
   ]
  },
  {
   "cell_type": "code",
   "execution_count": null,
   "metadata": {
    "collapsed": false,
    "deletable": true,
    "editable": true
   },
   "outputs": [],
   "source": [
    "x_conv_relu_current - x_conv_relu_actual"
   ]
  },
  {
   "cell_type": "code",
   "execution_count": null,
   "metadata": {
    "collapsed": false,
    "deletable": true,
    "editable": true
   },
   "outputs": [],
   "source": [
    "x_conv_relu_maxpool_current - x_conv_relu_maxpool_actual"
   ]
  },
  {
   "cell_type": "code",
   "execution_count": null,
   "metadata": {
    "collapsed": false,
    "deletable": true,
    "editable": true
   },
   "outputs": [],
   "source": [
    "typeof(vx)"
   ]
  },
  {
   "cell_type": "code",
   "execution_count": null,
   "metadata": {
    "collapsed": false
   },
   "outputs": [],
   "source": [
    "getoutputsize(x_actual, (1, 2, 2, 1))"
   ]
  },
  {
   "cell_type": "code",
   "execution_count": null,
   "metadata": {
    "collapsed": false
   },
   "outputs": [],
   "source": [
    "collect(CartesianRange((1, 3, 3, 1)))"
   ]
  },
  {
   "cell_type": "code",
   "execution_count": null,
   "metadata": {
    "collapsed": false
   },
   "outputs": [],
   "source": [
    "(1, 2, 3, 4) == (1, 2, 3, 4)"
   ]
  },
  {
   "cell_type": "code",
   "execution_count": null,
   "metadata": {
    "collapsed": false
   },
   "outputs": [],
   "source": [
    "maximum(x_conv_relu_maxpool_current - x_conv_relu_maxpool_actual)"
   ]
  },
  {
   "cell_type": "code",
   "execution_count": null,
   "metadata": {
    "collapsed": true
   },
   "outputs": [],
   "source": []
  }
 ],
 "metadata": {
  "kernelspec": {
   "display_name": "Julia 0.5.1",
   "language": "julia",
   "name": "julia-0.5"
  },
  "language_info": {
   "file_extension": ".jl",
   "mimetype": "application/julia",
   "name": "julia",
   "version": "0.5.1"
  }
 },
 "nbformat": 4,
 "nbformat_minor": 2
}
