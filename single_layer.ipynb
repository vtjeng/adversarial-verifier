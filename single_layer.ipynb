{
 "cells": [
  {
   "cell_type": "code",
   "execution_count": 8,
   "metadata": {
    "collapsed": false,
    "deletable": true,
    "editable": true
   },
   "outputs": [
    {
     "name": "stderr",
     "output_type": "stream",
     "text": [
      "WARNING: replacing module NNOps\n"
     ]
    },
    {
     "data": {
      "text/plain": [
       "NNOps"
      ]
     },
     "execution_count": 8,
     "metadata": {},
     "output_type": "execute_result"
    }
   ],
   "source": [
    "include(\"nn_ops.jl\")"
   ]
  },
  {
   "cell_type": "code",
   "execution_count": 2,
   "metadata": {
    "collapsed": false,
    "deletable": true,
    "editable": true
   },
   "outputs": [],
   "source": [
    "batch = 1\n",
    "in_height = 6\n",
    "in_width = 6\n",
    "stride_height = 2\n",
    "stride_width = 2\n",
    "pooled_height = round(Int, in_height/stride_height, RoundUp)\n",
    "pooled_width = round(Int, in_width/stride_width, RoundUp)\n",
    "in_channels = 1\n",
    "filter_height = 2\n",
    "filter_width = 2\n",
    "out_channels = 32\n",
    "bigM = 10000\n",
    "\n",
    "srand(5)\n",
    "x_actual = rand(-10:10, batch, in_height, in_width, in_channels)\n",
    "x_current = rand(-10:10, batch, in_height, in_width, in_channels)\n",
    "filter = rand(-10:10, filter_height, filter_width, in_channels, out_channels)\n",
    "x_conv_relu_maxpool_actual = NNOps.convlayer(x_conv_relu_actual, filter, (1, 2, 2, 1));\n",
    "# x_conv_actual = NNOps.conv2d(x_actual, filter)\n",
    "# x_conv_relu_actual = NNOps.relu(x_conv_actual)\n",
    "# x_conv_relu_maxpool_actual = NNOps.maxpool(x_conv_relu_actual, (1, 2, 2, 1));"
   ]
  },
  {
   "cell_type": "code",
   "execution_count": 5,
   "metadata": {
    "collapsed": false,
    "deletable": true,
    "editable": true
   },
   "outputs": [
    {
     "name": "stderr",
     "output_type": "stream",
     "text": [
      "\u001b[1m\u001b[31mWARNING: The addition operator has been used on JuMP expressions a large number of times. This warning is safe to ignore but may indicate that model generation is slower than necessary. For performance reasons, you should not add expressions in a loop. Instead of x += y, use append!(x,y) to modify x in place. If y is a single variable, you may also use push!(x, coef, y) in place of x += coef*y.\u001b[0m\n"
     ]
    },
    {
     "data": {
      "text/plain": [
       ":Min"
      ]
     },
     "execution_count": 5,
     "metadata": {},
     "output_type": "execute_result"
    }
   ],
   "source": [
    "using JuMP\n",
    "using Gurobi\n",
    "\n",
    "m = Model(solver=GurobiSolver())\n",
    "\n",
    "@variable(m, ve[1:batch, 1:in_height, 1:in_width, 1:in_channels])\n",
    "@variable(m, vx[1:batch, 1:in_height, 1:in_width, 1:in_channels])\n",
    "@variable(m, vx_conv[1:batch, 1:in_height, 1:in_width, 1:out_channels])\n",
    "# @variable(m, vx_conv_relu[1:batch, 1:in_height, 1:in_width, 1:out_channels])\n",
    "# @variable(m, vx_conv_relu_maxpool[1:batch, 1:pooled_height, 1:pooled_width, 1:out_channels])\n",
    "@constraint(m, vx .== x_current) # input\n",
    "\n",
    "# 1. Only using convolution constraint\n",
    "# vx_conv = NNOps.conv2dconstraint(m, vx+ve, filter)\n",
    "# @constraint(m, conv2d(vx+ve, filter) .== vx_conv)\n",
    "# @constraint(m, vx_conv .== x_conv_actual)\n",
    "\n",
    "# 2. Adding relu layer\n",
    "# vx_conv_relu = NNOps.reluconstraint(m, vx_conv, 10000)\n",
    "# @constraint(m, vx_conv_relu .== x_conv_relu_actual)\n",
    "\n",
    "# 3. Adding maxpool layer\n",
    "# vx_conv_relu_maxpool = NNOps.maxpoolconstraint(m, vx_conv_relu, (2, 2), 10000)\n",
    "# @constraint(m, vx_conv_relu_maxpool .== x_conv_relu_maxpool_actual)\n",
    "\n",
    "# 1-3a. Directly adding constraints\n",
    "vx_conv_relu_maxpool = NNOps.convlayerconstraint(m, vx+ve, filter, (2, 2), 10000)\n",
    "@constraint(m, vx_conv_relu_maxpool .== x_conv_relu_maxpool_actual)\n",
    "\n",
    "\n",
    "@objective(m, Min, sum(ve.^2))"
   ]
  },
  {
   "cell_type": "code",
   "execution_count": 6,
   "metadata": {
    "collapsed": false
   },
   "outputs": [
    {
     "name": "stdout",
     "output_type": "stream",
     "text": [
      "Optimize a model with 8676 rows, 6120 columns and 25348 nonzeros\n",
      "Model has 36 quadratic objective terms\n",
      "Variable types: 3816 continuous, 2304 integer (2304 binary)\n",
      "Coefficient statistics:\n",
      "  Matrix range     [1e+00, 1e+04]\n",
      "  Objective range  [0e+00, 0e+00]\n",
      "  QObjective range [2e+00, 2e+00]\n",
      "  Bounds range     [0e+00, 0e+00]\n",
      "  RHS range        [1e+00, 1e+04]\n",
      "Presolve removed 2980 rows and 1828 columns\n",
      "Presolve time: 0.03s\n",
      "Presolved: 5696 rows, 4292 columns, 16160 nonzeros\n",
      "Presolved model has 36 quadratic objective terms\n",
      "Variable types: 1988 continuous, 2304 integer (2304 binary)\n",
      "Found heuristic solution: objective 7905.6364327\n",
      "Found heuristic solution: objective 5153.7274699\n",
      "\n",
      "Root relaxation: objective 1.813530e+01, 6774 iterations, 0.09 seconds\n",
      "\n",
      "    Nodes    |    Current Node    |     Objective Bounds      |     Work\n",
      " Expl Unexpl |  Obj  Depth IntInf | Incumbent    BestBd   Gap | It/Node Time\n",
      "\n",
      "     0     0   18.13530    0 1040 5153.72747   18.13530   100%     -    0s\n",
      "     0     0   18.13530    0 1040 5153.72747   18.13530   100%     -    0s\n",
      "     0     0   18.13530    0 1041 5153.72747   18.13530   100%     -    1s\n",
      "     0     0   18.13530    0   33 5153.72747   18.13530   100%     -    1s\n",
      "H    0     0                     567.8909515   18.13530  96.8%     -    1s\n",
      "H    0     0                     435.2401370   18.13530  95.8%     -    1s\n",
      "H    0     0                     244.0445668   18.13530  92.6%     -    1s\n",
      "     0     0   18.13530    0   34  244.04457   18.13530  92.6%     -    1s\n",
      "     0     0   18.13530    0   34  244.04457   18.13530  92.6%     -    1s\n",
      "     0     0   27.79850    0   33  244.04457   27.79850  88.6%     -    1s\n",
      "     0     2   27.79850    0   33  244.04457   27.79850  88.6%     -    1s\n",
      "H  105    18                     215.8053411  189.71951  12.1%   4.7    1s\n",
      "H  132     3                     213.6801760  189.71951  11.2%   4.3    1s\n",
      "\n",
      "Explored 147 nodes (7631 simplex iterations) in 1.03 seconds\n",
      "Thread count was 8 (of 8 available processors)\n",
      "\n",
      "Solution count 7: 213.68 215.805 244.045 ... 7905.64\n",
      "Pool objective bound 213.68\n",
      "\n",
      "Optimal solution found (tolerance 1.00e-04)\n",
      "Best objective 2.136801759546e+02, best bound 2.136801759546e+02, gap 0.0000%\n",
      "Objective value: 213.68017595461845\n",
      "e = [0.0 -1.04489 -1.89764 -0.85894 0.0 0.230782]\n",
      "\n",
      "[0.0 0.30476 0.740325 0.410797 0.0 0.791252]\n",
      "\n",
      "[0.0 0.0 0.0 0.645808 2.66754 1.71286]\n",
      "\n",
      "[0.0 -4.2015 -4.02643 -0.188361 -0.893515 -0.93896]\n",
      "\n",
      "[1.01299 2.19622 1.92569 -3.25276 -9.26783 -5.89432]\n",
      "\n",
      "[-0.295455 -0.464286 0.0 0.948723 3.28477 2.81902]\n"
     ]
    }
   ],
   "source": [
    "status = solve(m)\n",
    "\n",
    "println(\"Objective value: \", getobjectivevalue(m))\n",
    "# TODO: Are jump solutions global? Can I save particular variables?\n",
    "println(\"e = \", getvalue(ve))"
   ]
  },
  {
   "cell_type": "code",
   "execution_count": null,
   "metadata": {
    "collapsed": false,
    "deletable": true,
    "editable": true
   },
   "outputs": [],
   "source": [
    "x_conv_current = NNOps.conv2d(x_current+getvalue(ve), filter)\n",
    "x_conv_relu_current = NNOps.relu(x_conv_current)\n",
    "x_conv_relu_maxpool_current = NNOps.maxpool(x_conv_relu_current, (1, 2, 2, 1));"
   ]
  },
  {
   "cell_type": "code",
   "execution_count": null,
   "metadata": {
    "collapsed": false,
    "deletable": true,
    "editable": true
   },
   "outputs": [],
   "source": [
    "maximum(abs(x_conv_current - x_conv_actual))"
   ]
  },
  {
   "cell_type": "code",
   "execution_count": null,
   "metadata": {
    "collapsed": false,
    "deletable": true,
    "editable": true
   },
   "outputs": [],
   "source": [
    "maximum(abs(x_conv_relu_current - x_conv_relu_actual))"
   ]
  },
  {
   "cell_type": "code",
   "execution_count": null,
   "metadata": {
    "collapsed": false,
    "deletable": true,
    "editable": true
   },
   "outputs": [],
   "source": [
    "maximum(abs(x_conv_relu_maxpool_current - x_conv_relu_maxpool_actual))"
   ]
  },
  {
   "cell_type": "code",
   "execution_count": null,
   "metadata": {
    "collapsed": false
   },
   "outputs": [],
   "source": [
    "maximum(abs(x_conv_actual))"
   ]
  },
  {
   "cell_type": "code",
   "execution_count": null,
   "metadata": {
    "collapsed": false
   },
   "outputs": [],
   "source": [
    "maximum(abs(x_conv_relu_actual))"
   ]
  },
  {
   "cell_type": "code",
   "execution_count": 4,
   "metadata": {
    "collapsed": false
   },
   "outputs": [
    {
     "data": {
      "text/plain": [
       "288-element Array{Int64,1}:\n",
       " 144\n",
       " 165\n",
       " 119\n",
       " 343\n",
       " 386\n",
       " 258\n",
       " 352\n",
       " 254\n",
       " 309\n",
       " 144\n",
       " 165\n",
       " 119\n",
       " 343\n",
       "   ⋮\n",
       " 352\n",
       " 254\n",
       " 309\n",
       " 144\n",
       " 165\n",
       " 119\n",
       " 343\n",
       " 386\n",
       " 258\n",
       " 352\n",
       " 254\n",
       " 309"
      ]
     },
     "execution_count": 4,
     "metadata": {},
     "output_type": "execute_result"
    }
   ],
   "source": [
    "x_conv_relu_maxpool_actual[:]"
   ]
  },
  {
   "cell_type": "code",
   "execution_count": null,
   "metadata": {
    "collapsed": true
   },
   "outputs": [],
   "source": []
  }
 ],
 "metadata": {
  "kernelspec": {
   "display_name": "Julia 0.5.1",
   "language": "julia",
   "name": "julia-0.5"
  },
  "language_info": {
   "file_extension": ".jl",
   "mimetype": "application/julia",
   "name": "julia",
   "version": "0.5.1"
  }
 },
 "nbformat": 4,
 "nbformat_minor": 2
}
