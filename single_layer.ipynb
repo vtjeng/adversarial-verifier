{
 "cells": [
  {
   "cell_type": "markdown",
   "metadata": {},
   "source": [
    "Basic example where we express the constraints for a neural net consisting of a single layer."
   ]
  },
  {
   "cell_type": "code",
   "execution_count": 2,
   "metadata": {
    "collapsed": false,
    "deletable": true,
    "editable": true
   },
   "outputs": [],
   "source": [
    "include(\"nn_ops.jl\");"
   ]
  },
  {
   "cell_type": "code",
   "execution_count": 3,
   "metadata": {
    "collapsed": false,
    "deletable": true,
    "editable": true
   },
   "outputs": [],
   "source": [
    "# We specify the parameters for the size of the problem that we are solving.\n",
    "batch = 1\n",
    "in_height = 4\n",
    "in_width = 4\n",
    "stride_height = 2\n",
    "stride_width = 2\n",
    "in_channels = 1\n",
    "filter_height = 2\n",
    "filter_width = 2\n",
    "out_channels = 8\n",
    "bigM = 10000\n",
    "\n",
    "pooled_height = round(Int, in_height/stride_height, RoundUp)\n",
    "pooled_width = round(Int, in_width/stride_width, RoundUp)\n",
    "\n",
    "# Fix random seed so that we get consistent results\n",
    "srand(5)\n",
    "\n",
    "# We select a random filter for the convolution.\n",
    "filter = rand(-10:10, filter_height, filter_width, in_channels, out_channels)\n",
    "\n",
    "# We select some random input, and determine the activations at each layer\n",
    "# for that input.\n",
    "# `x_conv_relu_maxpool_actual` is the target output that we will seek to\n",
    "# achieve by perturbing `x_perturbed`.\n",
    "x_actual = rand(-10:10, batch, in_height, in_width, in_channels)\n",
    "x_conv_relu_maxpool_actual = NNOps.convlayer(x_actual, filter, (1, 2, 2, 1));\n",
    "\n",
    "x_perturbed = rand(-10:10, batch, in_height, in_width, in_channels);"
   ]
  },
  {
   "cell_type": "code",
   "execution_count": 4,
   "metadata": {
    "collapsed": false,
    "deletable": true,
    "editable": true
   },
   "outputs": [],
   "source": [
    "using JuMP\n",
    "using Gurobi\n",
    "\n",
    "m = Model(solver=GurobiSolver())\n",
    "\n",
    "# `ve` is the tensor of perturbations, while `vx` is the tensor representing the\n",
    "# original input which we are perturbing.\n",
    "# Our objective in this optimization is to minimize the l-2 norm of the\n",
    "# perturbations.\n",
    "@variable(m, ve[1:batch, 1:in_height, 1:in_width, 1:in_channels])\n",
    "@objective(m, Min, sum(ve.^2))\n",
    "@variable(m, vx[1:batch, 1:in_height, 1:in_width, 1:in_channels])\n",
    "@constraint(m, vx .== x_perturbed)\n",
    "\n",
    "vx_conv_relu_maxpool = NNOps.convlayerconstraint(m, vx+ve, filter, (2, 2), 10000)\n",
    "@constraint(m, vx_conv_relu_maxpool .== x_conv_relu_maxpool_actual);"
   ]
  },
  {
   "cell_type": "code",
   "execution_count": 5,
   "metadata": {
    "collapsed": false,
    "deletable": true,
    "editable": true
   },
   "outputs": [
    {
     "name": "stdout",
     "output_type": "stream",
     "text": [
      "Optimize a model with 976 rows, 576 columns and 2752 nonzeros\n",
      "Model has 16 quadratic objective terms\n",
      "Variable types: 320 continuous, 256 integer (256 binary)\n",
      "Coefficient statistics:\n",
      "  Matrix range     [1e+00, 1e+04]\n",
      "  Objective range  [0e+00, 0e+00]\n",
      "  QObjective range [2e+00, 2e+00]\n",
      "  Bounds range     [1e+00, 1e+00]\n",
      "  RHS range        [1e+00, 1e+04]\n",
      "Presolve removed 360 rows and 104 columns\n",
      "Presolve time: 0.00s\n",
      "Presolved: 616 rows, 472 columns, 1736 nonzeros\n",
      "Presolved model has 16 quadratic objective terms\n",
      "Variable types: 216 continuous, 256 integer (256 binary)\n",
      "Found heuristic solution: objective 9.684909e+11\n",
      "Found heuristic solution: objective 817.0146393\n",
      "\n",
      "Root relaxation: objective 1.291618e+00, 739 iterations, 0.00 seconds\n",
      "\n",
      "    Nodes    |    Current Node    |     Objective Bounds      |     Work\n",
      " Expl Unexpl |  Obj  Depth IntInf | Incumbent    BestBd   Gap | It/Node Time\n",
      "\n",
      "     0     0    1.29162    0  104  817.01464    1.29162   100%     -    0s\n",
      "     0     0    1.29162    0   15  817.01464    1.29162   100%     -    0s\n",
      "H    0     0                     123.6049071    1.29162  99.0%     -    0s\n",
      "     0     2    1.29162    0   15  123.60491    1.29162  99.0%     -    0s\n",
      "H   29    14                     107.8391785   71.18310  34.0%   5.8    0s\n",
      "H   31    14                      96.3484446   71.18310  26.1%   5.6    0s\n",
      "*   39     9              12      90.2424953   71.18310  21.1%   5.1    0s\n",
      "*   44     1              12      88.7883560   75.47966  15.0%   4.7    0s\n",
      "\n",
      "Explored 48 nodes (1060 simplex iterations) in 0.04 seconds\n",
      "Thread count was 8 (of 8 available processors)\n",
      "\n",
      "Solution count 7: 88.7884 90.2425 96.3484 ... 9.68491e+11\n",
      "Pool objective bound 88.7884\n",
      "\n",
      "Optimal solution found (tolerance 1.00e-04)\n",
      "Best objective 8.878835595004e+01, best bound 8.878835595004e+01, gap 0.0000%\n",
      "\n",
      "Original Input:\n",
      "[-5 1 -4 -9]\n",
      "\n",
      "[-6 -6 -7 -1]\n",
      "\n",
      "[-6 3 9 3]\n",
      "\n",
      "[-8 -7 0 0]\n",
      "\n",
      "Perturbation:\n",
      "[0.0 0.421876 -3.0586 0.0]\n",
      "\n",
      "[0.0 2.21485 -1.88832 0.691251]\n",
      "\n",
      "[0.0 0.0 -0.500561 0.405216]\n",
      "\n",
      "[0.578763 -4.19603 0.984831 -7.14002]\n"
     ]
    }
   ],
   "source": [
    "status = solve(m)\n",
    "\n",
    "println(\"\\nOriginal Input:\\n\", x_perturbed)\n",
    "println(\"\\nPerturbation:\\n\", getvalue(ve))"
   ]
  },
  {
   "cell_type": "code",
   "execution_count": 6,
   "metadata": {
    "collapsed": false,
    "deletable": true,
    "editable": true
   },
   "outputs": [],
   "source": [
    "# Sanity checks comparing the value of the activations from feeding\n",
    "# the perturbed input to the net to the value of the activations from\n",
    "# feeding the actual input.\n",
    "\n",
    "x_conv_perturbed = NNOps.conv2d(x_perturbed+getvalue(ve), filter);\n",
    "x_conv_relu_perturbed = NNOps.relu(x_conv_perturbed);\n",
    "x_conv_relu_maxpool_perturbed = NNOps.maxpool(x_conv_relu_perturbed, (1, 2, 2, 1));\n",
    "\n",
    "x_conv_actual = NNOps.conv2d(x_actual, filter);\n",
    "x_conv_relu_actual = NNOps.relu(x_conv_actual);\n"
   ]
  },
  {
   "cell_type": "code",
   "execution_count": 7,
   "metadata": {
    "collapsed": false,
    "deletable": true,
    "editable": true
   },
   "outputs": [
    {
     "name": "stdout",
     "output_type": "stream",
     "text": [
      "Maximum difference between convolution activations: 506.34253876129304\n",
      "Maximum difference between relu activations: 295.0\n",
      "Maximum difference between maxpool activations: 3.473985543678282e-10\n"
     ]
    }
   ],
   "source": [
    "conv_delta = maximum(abs(x_conv_perturbed - x_conv_actual))\n",
    "conv_relu_delta = maximum(abs(x_conv_relu_perturbed - x_conv_relu_actual))\n",
    "conv_relu_maxpool_delta = maximum(abs(x_conv_relu_maxpool_perturbed - x_conv_relu_maxpool_actual))\n",
    "println(\"Maximum difference between convolution activations: \", conv_delta)\n",
    "println(\"Maximum difference between relu activations: \", conv_relu_delta)\n",
    "println(\"Maximum difference between maxpool activations: \", conv_relu_maxpool_delta)"
   ]
  }
 ],
 "metadata": {
  "kernelspec": {
   "display_name": "Julia 0.5.1",
   "language": "julia",
   "name": "julia-0.5"
  },
  "language_info": {
   "file_extension": ".jl",
   "mimetype": "application/julia",
   "name": "julia",
   "version": "0.5.1"
  }
 },
 "nbformat": 4,
 "nbformat_minor": 2
}
