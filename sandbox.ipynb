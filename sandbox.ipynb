{
 "cells": [
  {
   "cell_type": "code",
   "execution_count": null,
   "metadata": {
    "collapsed": true
   },
   "outputs": [],
   "source": [
    "The actual sandbox, where you explore to figure out why your code is wrong. :/"
   ]
  },
  {
   "cell_type": "code",
   "execution_count": 20,
   "metadata": {
    "collapsed": false,
    "deletable": true,
    "editable": true
   },
   "outputs": [
    {
     "name": "stderr",
     "output_type": "stream",
     "text": [
      "WARNING: replacing module NNOps\n"
     ]
    },
    {
     "data": {
      "text/plain": [
       "NNOps"
      ]
     },
     "execution_count": 20,
     "metadata": {},
     "output_type": "execute_result"
    }
   ],
   "source": [
    "include(\"nn_ops.jl\")"
   ]
  },
  {
   "cell_type": "code",
   "execution_count": 21,
   "metadata": {
    "collapsed": false,
    "deletable": true,
    "editable": true
   },
   "outputs": [
    {
     "data": {
      "text/plain": [
       "1×4×4×5 Array{Int64,4}:\n",
       "[:, :, 1, 1] =\n",
       " 2  -7  4  -4\n",
       "\n",
       "[:, :, 2, 1] =\n",
       " 3  7  0  6\n",
       "\n",
       "[:, :, 3, 1] =\n",
       " 10  -4  -5  0\n",
       "\n",
       "[:, :, 4, 1] =\n",
       " -8  8  -5  -10\n",
       "\n",
       "[:, :, 1, 2] =\n",
       " 8  -2  -9  10\n",
       "\n",
       "[:, :, 2, 2] =\n",
       " -7  0  1  8\n",
       "\n",
       "[:, :, 3, 2] =\n",
       " 5  -4  8  1\n",
       "\n",
       "[:, :, 4, 2] =\n",
       " -5  -2  8  4\n",
       "\n",
       "[:, :, 1, 3] =\n",
       " -4  7  6  -6\n",
       "\n",
       "[:, :, 2, 3] =\n",
       " 2  -1  -2  8\n",
       "\n",
       "[:, :, 3, 3] =\n",
       " -4  -9  -3  -10\n",
       "\n",
       "[:, :, 4, 3] =\n",
       " -8  0  -1  1\n",
       "\n",
       "[:, :, 1, 4] =\n",
       " 5  -8  9  5\n",
       "\n",
       "[:, :, 2, 4] =\n",
       " 8  8  4  6\n",
       "\n",
       "[:, :, 3, 4] =\n",
       " -5  5  4  -3\n",
       "\n",
       "[:, :, 4, 4] =\n",
       " 0  1  8  6\n",
       "\n",
       "[:, :, 1, 5] =\n",
       " -10  -5  3  -2\n",
       "\n",
       "[:, :, 2, 5] =\n",
       " 9  3  -1  -6\n",
       "\n",
       "[:, :, 3, 5] =\n",
       " -5  6  -2  -10\n",
       "\n",
       "[:, :, 4, 5] =\n",
       " 6  -3  -7  5"
      ]
     },
     "execution_count": 21,
     "metadata": {},
     "output_type": "execute_result"
    }
   ],
   "source": [
    "batch = 1\n",
    "in_height = 4\n",
    "in_width = 4\n",
    "\n",
    "in_channels = 5\n",
    "filter_height = 2\n",
    "filter_width = 2\n",
    "out_channels = 3\n",
    "\n",
    "filter = rand(-10:10, filter_height, filter_width, in_channels, out_channels)\n",
    "x_actual = rand(-10:10, batch, in_height, in_width, in_channels)"
   ]
  },
  {
   "cell_type": "code",
   "execution_count": 22,
   "metadata": {
    "collapsed": false,
    "deletable": true,
    "editable": true
   },
   "outputs": [
    {
     "data": {
      "text/plain": [
       "2×2×5×3 Array{Int64,4}:\n",
       "[:, :, 1, 1] =\n",
       " 4  -6\n",
       " 9   9\n",
       "\n",
       "[:, :, 2, 1] =\n",
       " -6   5\n",
       " -4  -2\n",
       "\n",
       "[:, :, 3, 1] =\n",
       " -2  -3\n",
       "  5  -7\n",
       "\n",
       "[:, :, 4, 1] =\n",
       "   6  -5\n",
       " -10   1\n",
       "\n",
       "[:, :, 5, 1] =\n",
       "  9  -4\n",
       " -8  -8\n",
       "\n",
       "[:, :, 1, 2] =\n",
       " -5  -4\n",
       "  5  -5\n",
       "\n",
       "[:, :, 2, 2] =\n",
       " 10  8\n",
       "  0  0\n",
       "\n",
       "[:, :, 3, 2] =\n",
       " -9  6\n",
       "  5  7\n",
       "\n",
       "[:, :, 4, 2] =\n",
       " -6  -10\n",
       " -6   -8\n",
       "\n",
       "[:, :, 5, 2] =\n",
       "  3  -6\n",
       " 10  -5\n",
       "\n",
       "[:, :, 1, 3] =\n",
       "   7  1\n",
       " -10  2\n",
       "\n",
       "[:, :, 2, 3] =\n",
       " -7  3\n",
       "  8  8\n",
       "\n",
       "[:, :, 3, 3] =\n",
       "  2  5\n",
       " -9  8\n",
       "\n",
       "[:, :, 4, 3] =\n",
       " -4  5\n",
       "  9  0\n",
       "\n",
       "[:, :, 5, 3] =\n",
       " 2  4\n",
       " 0  6"
      ]
     },
     "execution_count": 22,
     "metadata": {},
     "output_type": "execute_result"
    }
   ],
   "source": [
    "filter"
   ]
  },
  {
   "cell_type": "code",
   "execution_count": 23,
   "metadata": {
    "collapsed": false,
    "deletable": true,
    "editable": true
   },
   "outputs": [
    {
     "data": {
      "text/plain": [
       "(1,4,4,3)"
      ]
     },
     "execution_count": 23,
     "metadata": {},
     "output_type": "execute_result"
    }
   ],
   "source": [
    "output_size = (batch, in_height, in_width, out_channels)"
   ]
  },
  {
   "cell_type": "code",
   "execution_count": 26,
   "metadata": {
    "collapsed": false,
    "deletable": true,
    "editable": true
   },
   "outputs": [],
   "source": [
    "output = Array{Real}(output_size)\n",
    "filter_height_offset = round(Int, filter_height/2, RoundUp)\n",
    "filter_width_offset = round(Int, filter_width/2, RoundUp)\n",
    "\n",
    "input=x_actual\n",
    "\n",
    "using Base.Cartesian\n",
    "    @nloops 4 i output begin\n",
    "        s = 0\n",
    "        @nloops 4 j filter begin\n",
    "            x = i_2 + j_1 - filter_height_offset\n",
    "            y = i_3 + j_2 - filter_width_offset\n",
    "            if x > 0 && y > 0 && x<=in_height && y<=in_width\n",
    "                # Doing bounds check to make sure that we stay within bounds\n",
    "                # for input. This effectively zero-pads the input.\n",
    "                # TODO: Use default checkbounds function here instead?\n",
    "                # TODO: Addition here is a bottleneck; figure out whether\n",
    "                # you could use append without making this incompatible\n",
    "                # with normal numbers\n",
    "                s += input[i_1, x, y, j_3] * filter[j_1, j_2, j_3, i_4]\n",
    "            end\n",
    "        end\n",
    "        (@nref 4 output i) = s\n",
    "    end"
   ]
  },
  {
   "cell_type": "code",
   "execution_count": 27,
   "metadata": {
    "collapsed": false,
    "deletable": true,
    "editable": true
   },
   "outputs": [
    {
     "data": {
      "text/plain": [
       "1×4×4×3 Array{Real,4}:\n",
       "[:, :, 1, 1] =\n",
       " -219  -606  90  -234\n",
       "\n",
       "[:, :, 2, 1] =\n",
       " 441  63  825  96\n",
       "\n",
       "[:, :, 3, 1] =\n",
       " -288  -141  -234  -201\n",
       "\n",
       "[:, :, 4, 1] =\n",
       " 486  -249  -846  45\n",
       "\n",
       "[:, :, 1, 2] =\n",
       " -801  -486  -1017  606\n",
       "\n",
       "[:, :, 2, 2] =\n",
       " -507  -849  51  -114\n",
       "\n",
       "[:, :, 3, 2] =\n",
       " -327  -258  -18  228\n",
       "\n",
       "[:, :, 4, 2] =\n",
       " 252  -669  42  180\n",
       "\n",
       "[:, :, 1, 3] =\n",
       " -237  -132  1215  -174\n",
       "\n",
       "[:, :, 2, 3] =\n",
       " -135  267  -477  -408\n",
       "\n",
       "[:, :, 3, 3] =\n",
       " 342  450  90  66\n",
       "\n",
       "[:, :, 4, 3] =\n",
       " -336  765  114  -330"
      ]
     },
     "execution_count": 27,
     "metadata": {},
     "output_type": "execute_result"
    }
   ],
   "source": [
    "output"
   ]
  },
  {
   "cell_type": "code",
   "execution_count": null,
   "metadata": {
    "collapsed": true,
    "deletable": true,
    "editable": true
   },
   "outputs": [],
   "source": []
  }
 ],
 "metadata": {
  "kernelspec": {
   "display_name": "Julia 0.5.1",
   "language": "julia",
   "name": "julia-0.5"
  },
  "language_info": {
   "file_extension": ".jl",
   "mimetype": "application/julia",
   "name": "julia",
   "version": "0.5.1"
  }
 },
 "nbformat": 4,
 "nbformat_minor": 2
}
