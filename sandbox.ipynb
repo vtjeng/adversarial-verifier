{
 "cells": [
  {
   "cell_type": "code",
   "execution_count": null,
   "metadata": {
    "collapsed": false,
    "deletable": true,
    "editable": true
   },
   "outputs": [],
   "source": [
    "Pkg.update()"
   ]
  },
  {
   "cell_type": "code",
   "execution_count": null,
   "metadata": {
    "collapsed": false,
    "deletable": true,
    "editable": true
   },
   "outputs": [],
   "source": [
    "## EXAMPLE: basic constrained problem\n",
    "\n",
    "using JuMP\n",
    "using Gurobi\n",
    "\n",
    "m = Model(solver=GurobiSolver())\n",
    "\n",
    "@variable(m, 0 <= x <= 2)\n",
    "@variable(m, 0 <= y <= 30)\n",
    "\n",
    "@objective(m, Max, 5x + 3y)\n",
    "@constraint(m, 1x + 5y <= 3.0)\n",
    "\n",
    "print(m)\n",
    "\n",
    "status = solve(m)\n",
    "\n",
    "println(\"Objective value: \", getobjectivevalue(m))\n",
    "println(\"x = \", getvalue(x))\n",
    "println(\"y = \", getvalue(y))"
   ]
  },
  {
   "cell_type": "code",
   "execution_count": null,
   "metadata": {
    "collapsed": false,
    "deletable": true,
    "editable": true
   },
   "outputs": [],
   "source": [
    "## EXAMPLE: matrix multiplication\n",
    "\n",
    "A = [1 2 3; 4 5 6]\n",
    "x_actual = [3; 1; 4]\n",
    "x_current = [1; 4; 1]\n",
    "b = [5; 9]\n",
    "y_actual = A*x_actual + b\n",
    "\n",
    "using JuMP\n",
    "using Gurobi\n",
    "\n",
    "m1 = Model(solver=GurobiSolver())\n",
    "\n",
    "@variable(m1, e[1:3])\n",
    "@variable(m1, x[1:3])\n",
    "@variable(m1, y[1:2])\n",
    "@constraint(m1, x .== x_current) # input\n",
    "@constraint(m1, y .== y_actual) # output constraints\n",
    "@constraint(m1, A*(x+e) + b .== y)\n",
    "\n",
    "@objective(m1, Min, sum(e.^2))\n",
    "\n",
    "print(m1)\n",
    "\n",
    "status = solve(m1)\n",
    "\n",
    "println(\"Objective value: \", getobjectivevalue(m1))\n",
    "# TODO: Are jump solutions global? Can I save particular variables?\n",
    "println(\"e = \", getvalue(e))"
   ]
  },
  {
   "cell_type": "code",
   "execution_count": null,
   "metadata": {
    "collapsed": false,
    "deletable": true,
    "editable": true
   },
   "outputs": [],
   "source": [
    "### Exploring convolutions and cross-correlations\n",
    "# Looks like built-in convolution operation doesn't really meet our needs\n",
    "\n",
    "image = [\n",
    "    1 2 3 4 5;\n",
    "    2 3 4 5 6;\n",
    "    3 4 5 6 7;\n",
    "    4 5 6 7 8;\n",
    "    5 6 7 8 9\n",
    "]\n",
    "\n",
    "filter = [\n",
    "    -3 -1 1;\n",
    "    0 0 0;\n",
    "    3 1 -1;\n",
    "]\n",
    "\n",
    "filter_flipped = filter[end:-1:1, end:-1:1]\n",
    "\n",
    "conv2(image, filter_flipped)"
   ]
  },
  {
   "cell_type": "code",
   "execution_count": 36,
   "metadata": {
    "collapsed": false,
    "deletable": true,
    "editable": true
   },
   "outputs": [
    {
     "name": "stdout",
     "output_type": "stream",
     "text": [
      "Min e[1,1,1,1]² + e[1,1,2,1]² + e[1,1,3,1]² + e[1,1,4,1]² + e[1,1,5,1]² + e[1,1,6,1]² + e[1,1,7,1]² + e[1,2,1,1]² + e[1,2,2,1]² + e[1,2,3,1]² + e[1,2,4,1]² + e[1,2,5,1]² + e[1,2,6,1]² + e[1,2,7,1]² + e[1,3,1,1]² + e[1,3,2,1]² + e[1,3,3,1]² + e[1,3,4,1]² + e[1,3,5,1]² + e[1,3,6,1]² + e[1,3,7,1]²\n",
      "Subject to\n",
      " x[1,1,1,1] = 10\n",
      " x[1,2,1,1] = 2\n",
      " x[1,3,1,1] = 5\n",
      " x[1,1,2,1] = 5\n",
      " x[1,2,2,1] = 3\n",
      " x[1,3,2,1] = 8\n",
      " x[1,1,3,1] = 7\n",
      " x[1,2,3,1] = 6\n",
      " x[1,3,3,1] = 4\n",
      " x[1,1,4,1] = 6\n",
      " x[1,2,4,1] = 10\n",
      " x[1,3,4,1] = 4\n",
      " x[1,1,5,1] = 2\n",
      " x[1,2,5,1] = 4\n",
      " x[1,3,5,1] = 9\n",
      " x[1,1,6,1] = 1\n",
      " x[1,2,6,1] = 1\n",
      " x[1,3,6,1] = 7\n",
      " x[1,1,7,1] = 4\n",
      " x[1,2,7,1] = 8\n",
      " x[1,3,7,1] = 2\n",
      " y[1,1,1,1] = 209\n",
      " y[1,2,1,1] = 264\n",
      " y[1,3,1,1] = 134\n",
      " y[1,1,2,1] = 177\n",
      " y[1,2,2,1] = 119\n",
      " y[1,3,2,1] = 43\n",
      " y[1,1,3,1] = 175\n",
      " y[1,2,3,1] = 188\n",
      " y[1,3,3,1] = 87\n",
      " y[1,1,4,1] = 135\n",
      " y[1,2,4,1] = 171\n",
      " y[1,3,4,1] = 84\n",
      " y[1,1,5,1] = 181\n",
      " y[1,2,5,1] = 159\n",
      " y[1,3,5,1] = 66\n",
      " y[1,1,6,1] = 107\n",
      " y[1,2,6,1] = 140\n",
      " y[1,3,6,1] = 67\n",
      " y[1,1,7,1] = 92\n",
      " y[1,2,7,1] = 85\n",
      " y[1,3,7,1] = 51\n",
      " 7 x[1,1,1,1] + 7 e[1,1,1,1] + 9 x[1,2,1,1] + 9 e[1,2,1,1] + x[1,1,2,1] + e[1,1,2,1] + 3 x[1,2,2,1] + 3 e[1,2,2,1] + 7 x[1,1,3,1] + 7 e[1,1,3,1] + 10 x[1,2,3,1] + 10 e[1,2,3,1] - y[1,1,1,1] = 0\n",
      " 7 x[1,2,1,1] + 7 e[1,2,1,1] + 9 x[1,3,1,1] + 9 e[1,3,1,1] + x[1,2,2,1] + e[1,2,2,1] + 3 x[1,3,2,1] + 3 e[1,3,2,1] + 7 x[1,2,3,1] + 7 e[1,2,3,1] + 10 x[1,3,3,1] + 10 e[1,3,3,1] - y[1,2,1,1] = 0\n",
      " 7 x[1,3,1,1] + 7 e[1,3,1,1] + x[1,3,2,1] + e[1,3,2,1] + 7 x[1,3,3,1] + 7 e[1,3,3,1] - y[1,3,1,1] = 0\n",
      " 2 x[1,1,1,1] + 2 e[1,1,1,1] + 2 x[1,2,1,1] + 2 e[1,2,1,1] + 7 x[1,1,2,1] + 7 e[1,1,2,1] + 9 x[1,2,2,1] + 9 e[1,2,2,1] + x[1,1,3,1] + e[1,1,3,1] + 3 x[1,2,3,1] + 3 e[1,2,3,1] + 7 x[1,1,4,1] + 7 e[1,1,4,1] + 10 x[1,2,4,1] + 10 e[1,2,4,1] - y[1,1,2,1] = 0\n",
      " 2 x[1,2,1,1] + 2 e[1,2,1,1] + 2 x[1,3,1,1] + 2 e[1,3,1,1] + 7 x[1,2,2,1] + 7 e[1,2,2,1] + 9 x[1,3,2,1] + 9 e[1,3,2,1] + x[1,2,3,1] + e[1,2,3,1] + 3 x[1,3,3,1] + 3 e[1,3,3,1] + 7 x[1,2,4,1] + 7 e[1,2,4,1] + 10 x[1,3,4,1] + 10 e[1,3,4,1] - y[1,2,2,1] = 0\n",
      " 2 x[1,3,1,1] + 2 e[1,3,1,1] + 7 x[1,3,2,1] + 7 e[1,3,2,1] + x[1,3,3,1] + e[1,3,3,1] + 7 x[1,3,4,1] + 7 e[1,3,4,1] - y[1,3,2,1] = 0\n",
      " 2 x[1,1,2,1] + 2 e[1,1,2,1] + 2 x[1,2,2,1] + 2 e[1,2,2,1] + 7 x[1,1,3,1] + 7 e[1,1,3,1] + 9 x[1,2,3,1] + 9 e[1,2,3,1] + x[1,1,4,1] + e[1,1,4,1] + 3 x[1,2,4,1] + 3 e[1,2,4,1] + 7 x[1,1,5,1] + 7 e[1,1,5,1] + 10 x[1,2,5,1] + 10 e[1,2,5,1] - y[1,1,3,1] = 0\n",
      " 2 x[1,2,2,1] + 2 e[1,2,2,1] + 2 x[1,3,2,1] + 2 e[1,3,2,1] + 7 x[1,2,3,1] + 7 e[1,2,3,1] + 9 x[1,3,3,1] + 9 e[1,3,3,1] + x[1,2,4,1] + e[1,2,4,1] + 3 x[1,3,4,1] + 3 e[1,3,4,1] + 7 x[1,2,5,1] + 7 e[1,2,5,1] + 10 x[1,3,5,1] + 10 e[1,3,5,1] - y[1,2,3,1] = 0\n",
      " 2 x[1,3,2,1] + 2 e[1,3,2,1] + 7 x[1,3,3,1] + 7 e[1,3,3,1] + x[1,3,4,1] + e[1,3,4,1] + 7 x[1,3,5,1] + 7 e[1,3,5,1] - y[1,3,3,1] = 0\n",
      " 2 x[1,1,3,1] + 2 e[1,1,3,1] + 2 x[1,2,3,1] + 2 e[1,2,3,1] + 7 x[1,1,4,1] + 7 e[1,1,4,1] + 9 x[1,2,4,1] + 9 e[1,2,4,1] + x[1,1,5,1] + e[1,1,5,1] + 3 x[1,2,5,1] + 3 e[1,2,5,1] + 7 x[1,1,6,1] + 7 e[1,1,6,1] + 10 x[1,2,6,1] + 10 e[1,2,6,1] - y[1,1,4,1] = 0\n",
      " 2 x[1,2,3,1] + 2 e[1,2,3,1] + 2 x[1,3,3,1] + 2 e[1,3,3,1] + 7 x[1,2,4,1] + 7 e[1,2,4,1] + 9 x[1,3,4,1] + 9 e[1,3,4,1] + x[1,2,5,1] + e[1,2,5,1] + 3 x[1,3,5,1] + 3 e[1,3,5,1] + 7 x[1,2,6,1] + 7 e[1,2,6,1] + 10 x[1,3,6,1] + 10 e[1,3,6,1] - y[1,2,4,1] = 0\n",
      " 2 x[1,3,3,1] + 2 e[1,3,3,1] + 7 x[1,3,4,1] + 7 e[1,3,4,1] + x[1,3,5,1] + e[1,3,5,1] + 7 x[1,3,6,1] + 7 e[1,3,6,1] - y[1,3,4,1] = 0\n",
      " 2 x[1,1,4,1] + 2 e[1,1,4,1] + 2 x[1,2,4,1] + 2 e[1,2,4,1] + 7 x[1,1,5,1] + 7 e[1,1,5,1] + 9 x[1,2,5,1] + 9 e[1,2,5,1] + x[1,1,6,1] + e[1,1,6,1] + 3 x[1,2,6,1] + 3 e[1,2,6,1] + 7 x[1,1,7,1] + 7 e[1,1,7,1] + 10 x[1,2,7,1] + 10 e[1,2,7,1] - y[1,1,5,1] = 0\n",
      " 2 x[1,2,4,1] + 2 e[1,2,4,1] + 2 x[1,3,4,1] + 2 e[1,3,4,1] + 7 x[1,2,5,1] + 7 e[1,2,5,1] + 9 x[1,3,5,1] + 9 e[1,3,5,1] + x[1,2,6,1] + e[1,2,6,1] + 3 x[1,3,6,1] + 3 e[1,3,6,1] + 7 x[1,2,7,1] + 7 e[1,2,7,1] + 10 x[1,3,7,1] + 10 e[1,3,7,1] - y[1,2,5,1] = 0\n",
      " 2 x[1,3,4,1] + 2 e[1,3,4,1] + 7 x[1,3,5,1] + 7 e[1,3,5,1] + x[1,3,6,1] + e[1,3,6,1] + 7 x[1,3,7,1] + 7 e[1,3,7,1] - y[1,3,5,1] = 0\n",
      " 2 x[1,1,5,1] + 2 e[1,1,5,1] + 2 x[1,2,5,1] + 2 e[1,2,5,1] + 7 x[1,1,6,1] + 7 e[1,1,6,1] + 9 x[1,2,6,1] + 9 e[1,2,6,1] + x[1,1,7,1] + e[1,1,7,1] + 3 x[1,2,7,1] + 3 e[1,2,7,1] - y[1,1,6,1] = 0\n",
      " 2 x[1,2,5,1] + 2 e[1,2,5,1] + 2 x[1,3,5,1] + 2 e[1,3,5,1] + 7 x[1,2,6,1] + 7 e[1,2,6,1] + 9 x[1,3,6,1] + 9 e[1,3,6,1] + x[1,2,7,1] + e[1,2,7,1] + 3 x[1,3,7,1] + 3 e[1,3,7,1] - y[1,2,6,1] = 0\n",
      " 2 x[1,3,5,1] + 2 e[1,3,5,1] + 7 x[1,3,6,1] + 7 e[1,3,6,1] + x[1,3,7,1] + e[1,3,7,1] - y[1,3,6,1] = 0\n",
      " 2 x[1,1,6,1] + 2 e[1,1,6,1] + 2 x[1,2,6,1] + 2 e[1,2,6,1] + 7 x[1,1,7,1] + 7 e[1,1,7,1] + 9 x[1,2,7,1] + 9 e[1,2,7,1] - y[1,1,7,1] = 0\n",
      " 2 x[1,2,6,1] + 2 e[1,2,6,1] + 2 x[1,3,6,1] + 2 e[1,3,6,1] + 7 x[1,2,7,1] + 7 e[1,2,7,1] + 9 x[1,3,7,1] + 9 e[1,3,7,1] - y[1,2,7,1] = 0\n",
      " 2 x[1,3,6,1] + 2 e[1,3,6,1] + 7 x[1,3,7,1] + 7 e[1,3,7,1] - y[1,3,7,1] = 0\n",
      " e[i,j,k,l] ∀ i ∈ {1}, j ∈ {1,2,3}, k ∈ {1,2,…,6,7}, l ∈ {1}\n",
      " x[i,j,k,l] ∀ i ∈ {1}, j ∈ {1,2,3}, k ∈ {1,2,…,6,7}, l ∈ {1}\n",
      " y[i,j,k,l] ∀ i ∈ {1}, j ∈ {1,2,3}, k ∈ {1,2,…,6,7}, l ∈ {1}\n",
      "Optimize a model with 63 rows, 63 columns and 303 nonzeros\n",
      "Model has 21 quadratic objective terms\n",
      "Coefficient statistics:\n",
      "  Matrix range     [1e+00, 1e+01]\n",
      "  Objective range  [0e+00, 0e+00]\n",
      "  QObjective range [2e+00, 2e+00]\n",
      "  Bounds range     [0e+00, 0e+00]\n",
      "  RHS range        [1e+00, 3e+02]\n",
      "Presolve removed 42 rows and 42 columns\n",
      "Presolve time: 0.00s\n",
      "Presolved: 21 rows, 21 columns, 120 nonzeros\n",
      "Presolved model has 21 quadratic objective terms\n",
      "Ordering time: 0.00s\n",
      "\n",
      "Barrier statistics:\n",
      " Free vars  : 21\n",
      " AA' NZ     : 1.190e+02\n",
      " Factor NZ  : 2.310e+02\n",
      " Factor Ops : 3.311e+03 (less than 1 second per iteration)\n",
      " Threads    : 1\n",
      "\n",
      "                  Objective                Residual\n",
      "Iter       Primal          Dual         Primal    Dual     Compl     Time\n",
      "   0   4.10000000e+02 -4.10000000e+02  1.42e-14 9.00e+00  0.00e+00     0s\n",
      "   1   4.10000000e+02  4.09999180e+02  1.33e-14 9.00e-06  0.00e+00     0s\n",
      "   2   4.10000000e+02  4.10000000e+02  1.78e-15 9.00e-12  0.00e+00     0s\n",
      "\n",
      "Barrier solved model in 2 iterations and 0.00 seconds\n",
      "Optimal objective 4.10000000e+02\n",
      "\n",
      "Objective value: "
     ]
    },
    {
     "name": "stderr",
     "output_type": "stream",
     "text": [
      "WARNING: Method definition getsliceindex(Int64, Int64, Int64) in module Main at In[30]:2 overwritten at /home/vtjeng/Dropbox/Documents/MIT/UROP/Adversarial Examples - Russ Tedrake/ps4 - perturbing neural nets/julia/nn_ops.jl:81.\n",
      "WARNING: Method definition getpoolview(AbstractArray{#T<:Any, #N<:Any}, Tuple{Vararg{Int64, #N<:Any}}, Tuple{Vararg{Int64, #N<:Any}}) in module Main at In[30]:15 overwritten at /home/vtjeng/Dropbox/Documents/MIT/UROP/Adversarial Examples - Russ Tedrake/ps4 - perturbing neural nets/julia/nn_ops.jl:94.\n",
      "WARNING: Method definition poolmap(Function, AbstractArray{#T<:Any, #N<:Any}, Tuple{Vararg{Int64, #N<:Any}}) in module Main at In[30]:21 overwritten at /home/vtjeng/Dropbox/Documents/MIT/UROP/Adversarial Examples - Russ Tedrake/ps4 - perturbing neural nets/julia/nn_ops.jl:100.\n"
     ]
    },
    {
     "name": "stdout",
     "output_type": "stream",
     "text": [
      "410.0\n",
      "e = [-1.0 5.0 5.0]\n",
      "\n",
      "[5.0 1.0 -7.0]\n",
      "\n",
      "[-4.0 -2.0 5.0]\n",
      "\n",
      "[-4.0 -9.0 -3.0]\n",
      "\n",
      "[3.0 1.0 -6.0]\n",
      "\n",
      "[3.0 4.0 1.0]\n",
      "\n",
      "[4.0 -6.0 3.0]\n"
     ]
    }
   ],
   "source": [
    "## Example: convolution operation\n",
    "\n",
    "include(\"nn_ops.jl\")\n",
    "\n",
    "using JuMP\n",
    "using Gurobi\n",
    "\n",
    "batch = 1\n",
    "in_height = 3\n",
    "in_width = 7\n",
    "in_channels = 1\n",
    "filter_height = 2\n",
    "filter_width = 4\n",
    "out_channels = 1\n",
    "\n",
    "srand(1)\n",
    "x_actual = rand(1:10, batch, in_height, in_width, in_channels)\n",
    "x_current = rand(1:10, batch, in_height, in_width, in_channels)\n",
    "filter = rand(1:10, filter_height, filter_width, in_channels, out_channels)\n",
    "y_actual = conv2d(x_actual, filter)\n",
    "\n",
    "m2 = Model(solver=GurobiSolver())\n",
    "\n",
    "@variable(m2, e[1:batch, 1:in_height, 1:in_width, 1:in_channels])\n",
    "@variable(m2, x[1:batch, 1:in_height, 1:in_width, 1:in_channels])\n",
    "@variable(m2, y[1:batch, 1:in_height, 1:in_width, 1:out_channels])\n",
    "@constraint(m2, x .== x_current) # input\n",
    "@constraint(m2, y .== y_actual) # output constraints\n",
    "@constraint(m2, conv2d(x+e, filter) .== y)\n",
    "\n",
    "@objective(m2, Min, sum(e.^2))\n",
    "\n",
    "print(m2)\n",
    "\n",
    "status = solve(m2)\n",
    "\n",
    "println(\"Objective value: \", getobjectivevalue(m2))\n",
    "# TODO: Are jump solutions global? Can I save particular variables?\n",
    "println(\"e = \", getvalue(e))"
   ]
  },
  {
   "cell_type": "code",
   "execution_count": null,
   "metadata": {
    "collapsed": false,
    "deletable": true,
    "editable": true
   },
   "outputs": [],
   "source": [
    "## Example: rectified linearity\n",
    "\n",
    "include(\"nn_ops.jl\")\n",
    "\n",
    "using JuMP\n",
    "using Gurobi\n",
    "\n",
    "batch = 1\n",
    "in_height = 3\n",
    "in_width = 7\n",
    "in_channels = 1\n",
    "\n",
    "srand(1)\n",
    "x_current = rand(-10:10, batch, in_height, in_width, in_channels)\n",
    "\n",
    "m3 = Model(solver=GurobiSolver())\n",
    "\n",
    "@variable(m3, x[1:batch, 1:in_height, 1:in_width, 1:in_channels])\n",
    "@variable(m3, e[1:batch, 1:in_height, 1:in_width, 1:in_channels])\n",
    "@variable(m3, y[1:batch, 1:in_height, 1:in_width, 1:in_channels])\n",
    "reluconstraint(m3, x+e, y, 1000)\n",
    "\n",
    "@constraint(m3, x .== x_current) # input\n",
    "\n",
    "@constraint(m3, y .== 0)\n",
    "\n",
    "@objective(m3, Min, sum((x+e).^2))\n",
    "\n",
    "print(m3)\n",
    "\n",
    "status = solve(m3)\n",
    "\n",
    "println(\"Objective value: \", getobjectivevalue(m3))\n",
    "println(\"x = \", getvalue(x))\n",
    "println(\"e = \", getvalue(e))"
   ]
  },
  {
   "cell_type": "code",
   "execution_count": null,
   "metadata": {
    "collapsed": false,
    "deletable": true,
    "editable": true
   },
   "outputs": [],
   "source": [
    "## Example: max pooling\n",
    "\n",
    "include(\"nn_ops.jl\")\n",
    "\n",
    "using JuMP\n",
    "using Gurobi\n",
    "using Base.Cartesian\n",
    "\n",
    "batch = 1\n",
    "in_height = 5 # TODO: test for non-matching in and pool heights\n",
    "in_width = 10\n",
    "in_channels = 1\n",
    "pool_height = 3\n",
    "pool_width = 2\n",
    "\n",
    "out_height = round(Int, in_height/pool_height, RoundUp)\n",
    "out_width = round(Int, in_width/pool_width, RoundUp)\n",
    "\n",
    "srand(1)\n",
    "x_current = rand(-10:10, batch, in_height, in_width, in_channels)\n",
    "\n",
    "m4 = Model(solver=GurobiSolver())\n",
    "\n",
    "@variable(m4, x[1:batch, 1:in_height, 1:in_width, 1:in_channels])\n",
    "@variable(m4, y[1:batch, 1:out_height, 1:out_width, 1:in_channels])\n",
    "maxpoolconstraint(m4, x, y, (3, 2) , 1000)\n",
    "\n",
    "@constraint(m4, x .== x_current) # input\n",
    "\n",
    "@objective(m4, Min, sum(y.^2))\n",
    "\n",
    "print(m4)\n",
    "\n",
    "status = solve(m4)\n",
    "\n",
    "println(\"Objective value: \", getobjectivevalue(m4))\n",
    "println(\"x = \", getvalue(x))\n",
    "println(\"y = \", getvalue(y))"
   ]
  },
  {
   "cell_type": "code",
   "execution_count": null,
   "metadata": {
    "collapsed": false,
    "deletable": true,
    "editable": true
   },
   "outputs": [],
   "source": [
    "x=(1,2)"
   ]
  },
  {
   "cell_type": "code",
   "execution_count": null,
   "metadata": {
    "collapsed": false
   },
   "outputs": [],
   "source": [
    "image[1, 2]"
   ]
  },
  {
   "cell_type": "code",
   "execution_count": null,
   "metadata": {
    "collapsed": false
   },
   "outputs": [],
   "source": [
    "image[x]"
   ]
  },
  {
   "cell_type": "code",
   "execution_count": null,
   "metadata": {
    "collapsed": false
   },
   "outputs": [],
   "source": [
    "image[1:3, 1:5]"
   ]
  },
  {
   "cell_type": "code",
   "execution_count": null,
   "metadata": {
    "collapsed": false
   },
   "outputs": [],
   "source": [
    "x=(1:3, 1:5)\n",
    "image[x[1], x[2]]"
   ]
  },
  {
   "cell_type": "code",
   "execution_count": null,
   "metadata": {
    "collapsed": false
   },
   "outputs": [],
   "source": [
    "ind2sub(image, 3)"
   ]
  },
  {
   "cell_type": "code",
   "execution_count": null,
   "metadata": {
    "collapsed": false
   },
   "outputs": [],
   "source": [
    "maximum(getindex(image, x[1], x[2]))"
   ]
  },
  {
   "cell_type": "code",
   "execution_count": null,
   "metadata": {
    "collapsed": false
   },
   "outputs": [],
   "source": [
    "x_pool[1, 1] = 2"
   ]
  },
  {
   "cell_type": "code",
   "execution_count": null,
   "metadata": {
    "collapsed": false
   },
   "outputs": [],
   "source": [
    "it = zip(1:5, 11:15)"
   ]
  },
  {
   "cell_type": "code",
   "execution_count": null,
   "metadata": {
    "collapsed": false
   },
   "outputs": [],
   "source": [
    "for e in it\n",
    "    println(e)\n",
    "end\n",
    "    "
   ]
  },
  {
   "cell_type": "code",
   "execution_count": 1,
   "metadata": {
    "collapsed": false
   },
   "outputs": [
    {
     "data": {
      "text/plain": [
       "(2,1,4,1)"
      ]
     },
     "execution_count": 1,
     "metadata": {},
     "output_type": "execute_result"
    }
   ],
   "source": [
    "# making some fake array\n",
    "A_target_size=(3,10,10, 7)\n",
    "A = reshape(1:prod(A_target_size), A_target_size...)\n",
    "\n",
    "strides = (1, 2, 2, 1)\n",
    "child_index = (2, 1, 4, 1)\n",
    "\n"
   ]
  },
  {
   "cell_type": "code",
   "execution_count": 30,
   "metadata": {
    "collapsed": false
   },
   "outputs": [
    {
     "name": "stderr",
     "output_type": "stream",
     "text": [
      "WARNING: Method definition getsliceindex(Int64, Int64, Int64) in module Main at In[27]:2 overwritten at In[30]:2.\n",
      "WARNING: Method definition getpoolview(AbstractArray{#T<:Any, #N<:Any}, Tuple{Vararg{Int64, #N<:Any}}, Tuple{Vararg{Int64, #N<:Any}}) in module Main at In[27]:15 overwritten at In[30]:15.\n"
     ]
    },
    {
     "data": {
      "text/plain": [
       "poolmap (generic function with 2 methods)"
      ]
     },
     "execution_count": 30,
     "metadata": {},
     "output_type": "execute_result"
    }
   ],
   "source": [
    "function getsliceindex(input_array_size::Int, stride::Int, output_index::Int)::AbstractArray{Int, 1}\n",
    "    parent_start_index = (output_index-1)*stride+1\n",
    "    parent_end_index = min((output_index)*stride, input_array_size)\n",
    "    if parent_start_index > parent_end_index\n",
    "        return []\n",
    "    else\n",
    "        return parent_start_index:parent_end_index\n",
    "    end\n",
    "end\n",
    "\n",
    "\"\"\"\n",
    "For pooling operations on an array, returns a view of the parent array\n",
    "\"\"\"\n",
    "function getpoolview{T<:Any, N}(input_array::AbstractArray{T, N}, strides::NTuple{N, Int}, output_index::NTuple{N, Int})::SubArray{T, N}\n",
    "    it = zip(size(input_array), strides, output_index)\n",
    "    input_index_range = map((x)-> getsliceindex(x ...), it)\n",
    "    return view(input_array, input_index_range...)\n",
    "end\n",
    "\n",
    "function poolmap{T<:Any, N}(f::Function, input_array::AbstractArray{T, N}, strides::NTuple{N, Int})\n",
    "    output_size::NTuple{N, Int} = ((x, y) -> round(Int, x/y, RoundUp)).(size(input_array), strides)\n",
    "    output_indices = collect(CartesianRange(output_size))\n",
    "    output_array::AbstractArray{T, N} = ((I) -> f(getpoolview(A, strides, I.I))).(output_indices)\n",
    "    return output_array\n",
    "end"
   ]
  },
  {
   "cell_type": "code",
   "execution_count": 31,
   "metadata": {
    "collapsed": false
   },
   "outputs": [
    {
     "data": {
      "text/plain": [
       "1×2×2×1 SubArray{Int64,4,Base.ReshapedArray{Int64,4,UnitRange{Int64},Tuple{}},Tuple{UnitRange{Int64},UnitRange{Int64},UnitRange{Int64},UnitRange{Int64}},false}:\n",
       "[:, :, 1, 1] =\n",
       " 182  185\n",
       "\n",
       "[:, :, 2, 1] =\n",
       " 212  215"
      ]
     },
     "execution_count": 31,
     "metadata": {},
     "output_type": "execute_result"
    }
   ],
   "source": [
    "getpoolview(A, strides, child_index)"
   ]
  },
  {
   "cell_type": "code",
   "execution_count": 33,
   "metadata": {
    "collapsed": false
   },
   "outputs": [
    {
     "data": {
      "text/plain": [
       "3×5×5×7 Array{Int64,4}:\n",
       "[:, :, 1, 1] =\n",
       " 34  40  46  52  58\n",
       " 35  41  47  53  59\n",
       " 36  42  48  54  60\n",
       "\n",
       "[:, :, 2, 1] =\n",
       " 94  100  106  112  118\n",
       " 95  101  107  113  119\n",
       " 96  102  108  114  120\n",
       "\n",
       "[:, :, 3, 1] =\n",
       " 154  160  166  172  178\n",
       " 155  161  167  173  179\n",
       " 156  162  168  174  180\n",
       "\n",
       "[:, :, 4, 1] =\n",
       " 214  220  226  232  238\n",
       " 215  221  227  233  239\n",
       " 216  222  228  234  240\n",
       "\n",
       "[:, :, 5, 1] =\n",
       " 274  280  286  292  298\n",
       " 275  281  287  293  299\n",
       " 276  282  288  294  300\n",
       "\n",
       "[:, :, 1, 2] =\n",
       " 334  340  346  352  358\n",
       " 335  341  347  353  359\n",
       " 336  342  348  354  360\n",
       "\n",
       "[:, :, 2, 2] =\n",
       " 394  400  406  412  418\n",
       " 395  401  407  413  419\n",
       " 396  402  408  414  420\n",
       "\n",
       "[:, :, 3, 2] =\n",
       " 454  460  466  472  478\n",
       " 455  461  467  473  479\n",
       " 456  462  468  474  480\n",
       "\n",
       "[:, :, 4, 2] =\n",
       " 514  520  526  532  538\n",
       " 515  521  527  533  539\n",
       " 516  522  528  534  540\n",
       "\n",
       "[:, :, 5, 2] =\n",
       " 574  580  586  592  598\n",
       " 575  581  587  593  599\n",
       " 576  582  588  594  600\n",
       "\n",
       "[:, :, 1, 3] =\n",
       " 634  640  646  652  658\n",
       " 635  641  647  653  659\n",
       " 636  642  648  654  660\n",
       "\n",
       "[:, :, 2, 3] =\n",
       " 694  700  706  712  718\n",
       " 695  701  707  713  719\n",
       " 696  702  708  714  720\n",
       "\n",
       "[:, :, 3, 3] =\n",
       " 754  760  766  772  778\n",
       " 755  761  767  773  779\n",
       " 756  762  768  774  780\n",
       "\n",
       "[:, :, 4, 3] =\n",
       " 814  820  826  832  838\n",
       " 815  821  827  833  839\n",
       " 816  822  828  834  840\n",
       "\n",
       "[:, :, 5, 3] =\n",
       " 874  880  886  892  898\n",
       " 875  881  887  893  899\n",
       " 876  882  888  894  900\n",
       "\n",
       "[:, :, 1, 4] =\n",
       " 934  940  946  952  958\n",
       " 935  941  947  953  959\n",
       " 936  942  948  954  960\n",
       "\n",
       "[:, :, 2, 4] =\n",
       " 994  1000  1006  1012  1018\n",
       " 995  1001  1007  1013  1019\n",
       " 996  1002  1008  1014  1020\n",
       "\n",
       "[:, :, 3, 4] =\n",
       " 1054  1060  1066  1072  1078\n",
       " 1055  1061  1067  1073  1079\n",
       " 1056  1062  1068  1074  1080\n",
       "\n",
       "[:, :, 4, 4] =\n",
       " 1114  1120  1126  1132  1138\n",
       " 1115  1121  1127  1133  1139\n",
       " 1116  1122  1128  1134  1140\n",
       "\n",
       "[:, :, 5, 4] =\n",
       " 1174  1180  1186  1192  1198\n",
       " 1175  1181  1187  1193  1199\n",
       " 1176  1182  1188  1194  1200\n",
       "\n",
       "[:, :, 1, 5] =\n",
       " 1234  1240  1246  1252  1258\n",
       " 1235  1241  1247  1253  1259\n",
       " 1236  1242  1248  1254  1260\n",
       "\n",
       "[:, :, 2, 5] =\n",
       " 1294  1300  1306  1312  1318\n",
       " 1295  1301  1307  1313  1319\n",
       " 1296  1302  1308  1314  1320\n",
       "\n",
       "[:, :, 3, 5] =\n",
       " 1354  1360  1366  1372  1378\n",
       " 1355  1361  1367  1373  1379\n",
       " 1356  1362  1368  1374  1380\n",
       "\n",
       "[:, :, 4, 5] =\n",
       " 1414  1420  1426  1432  1438\n",
       " 1415  1421  1427  1433  1439\n",
       " 1416  1422  1428  1434  1440\n",
       "\n",
       "[:, :, 5, 5] =\n",
       " 1474  1480  1486  1492  1498\n",
       " 1475  1481  1487  1493  1499\n",
       " 1476  1482  1488  1494  1500\n",
       "\n",
       "[:, :, 1, 6] =\n",
       " 1534  1540  1546  1552  1558\n",
       " 1535  1541  1547  1553  1559\n",
       " 1536  1542  1548  1554  1560\n",
       "\n",
       "[:, :, 2, 6] =\n",
       " 1594  1600  1606  1612  1618\n",
       " 1595  1601  1607  1613  1619\n",
       " 1596  1602  1608  1614  1620\n",
       "\n",
       "[:, :, 3, 6] =\n",
       " 1654  1660  1666  1672  1678\n",
       " 1655  1661  1667  1673  1679\n",
       " 1656  1662  1668  1674  1680\n",
       "\n",
       "[:, :, 4, 6] =\n",
       " 1714  1720  1726  1732  1738\n",
       " 1715  1721  1727  1733  1739\n",
       " 1716  1722  1728  1734  1740\n",
       "\n",
       "[:, :, 5, 6] =\n",
       " 1774  1780  1786  1792  1798\n",
       " 1775  1781  1787  1793  1799\n",
       " 1776  1782  1788  1794  1800\n",
       "\n",
       "[:, :, 1, 7] =\n",
       " 1834  1840  1846  1852  1858\n",
       " 1835  1841  1847  1853  1859\n",
       " 1836  1842  1848  1854  1860\n",
       "\n",
       "[:, :, 2, 7] =\n",
       " 1894  1900  1906  1912  1918\n",
       " 1895  1901  1907  1913  1919\n",
       " 1896  1902  1908  1914  1920\n",
       "\n",
       "[:, :, 3, 7] =\n",
       " 1954  1960  1966  1972  1978\n",
       " 1955  1961  1967  1973  1979\n",
       " 1956  1962  1968  1974  1980\n",
       "\n",
       "[:, :, 4, 7] =\n",
       " 2014  2020  2026  2032  2038\n",
       " 2015  2021  2027  2033  2039\n",
       " 2016  2022  2028  2034  2040\n",
       "\n",
       "[:, :, 5, 7] =\n",
       " 2074  2080  2086  2092  2098\n",
       " 2075  2081  2087  2093  2099\n",
       " 2076  2082  2088  2094  2100"
      ]
     },
     "execution_count": 33,
     "metadata": {},
     "output_type": "execute_result"
    }
   ],
   "source": [
    "poolmap(maximum, A, strides)"
   ]
  },
  {
   "cell_type": "code",
   "execution_count": 18,
   "metadata": {
    "collapsed": false
   },
   "outputs": [
    {
     "ename": "LoadError",
     "evalue": "MethodError: no method matching Union(::Type{Array{Any,1}}, ::Type{UnitRange{Int64}})\u001b[0m\nClosest candidates are:\n  Union{T}(::Any) at sysimg.jl:53\u001b[0m",
     "output_type": "error",
     "traceback": [
      "MethodError: no method matching Union(::Type{Array{Any,1}}, ::Type{UnitRange{Int64}})\u001b[0m\nClosest candidates are:\n  Union{T}(::Any) at sysimg.jl:53\u001b[0m",
      ""
     ]
    }
   ],
   "source": [
    "Union(typeof([]), typeof(1:5))"
   ]
  },
  {
   "cell_type": "code",
   "execution_count": 32,
   "metadata": {
    "collapsed": false
   },
   "outputs": [
    {
     "name": "stderr",
     "output_type": "stream",
     "text": [
      "WARNING: Method definition f(Any, Any) in module Main at In[28]:1 overwritten at In[32]:1.\n"
     ]
    },
    {
     "data": {
      "text/plain": [
       "f (generic function with 1 method)"
      ]
     },
     "execution_count": 32,
     "metadata": {},
     "output_type": "execute_result"
    }
   ],
   "source": [
    "f(x, y) = x+y"
   ]
  },
  {
   "cell_type": "code",
   "execution_count": 34,
   "metadata": {
    "collapsed": false
   },
   "outputs": [
    {
     "ename": "LoadError",
     "evalue": "too many parameters for type Function",
     "output_type": "error",
     "traceback": [
      "too many parameters for type Function",
      ""
     ]
    }
   ],
   "source": [
    "function twodo(f::Function{Int->Int}, x::Int, y::Int)\n",
    "    return f(x, y)\n",
    "end\n"
   ]
  },
  {
   "cell_type": "code",
   "execution_count": 35,
   "metadata": {
    "collapsed": false
   },
   "outputs": [
    {
     "ename": "LoadError",
     "evalue": "InterruptException:",
     "output_type": "error",
     "traceback": [
      "InterruptException:",
      "",
      " in push! at ./set.jl:35 [inlined]",
      " in _subtypes(::Module, ::DataType, ::Set{Any}, ::Set{Any}) at ./reflection.jl:169",
      " in _subtypes(::Module, ::DataType, ::Set{Any}, ::Set{Any}) at ./reflection.jl:171 (repeats 2 times)",
      " in subtypes(::Module, ::DataType) at ./reflection.jl:177",
      " in subtypes(::DataType) at ./reflection.jl:178"
     ]
    }
   ],
   "source": [
    "subtypes(Function)"
   ]
  },
  {
   "cell_type": "code",
   "execution_count": null,
   "metadata": {
    "collapsed": true
   },
   "outputs": [],
   "source": []
  }
 ],
 "metadata": {
  "kernelspec": {
   "display_name": "Julia 0.5.1",
   "language": "julia",
   "name": "julia-0.5"
  },
  "language_info": {
   "file_extension": ".jl",
   "mimetype": "application/julia",
   "name": "julia",
   "version": "0.5.1"
  }
 },
 "nbformat": 4,
 "nbformat_minor": 0
}
